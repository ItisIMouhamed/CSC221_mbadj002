{
  "nbformat": 4,
  "nbformat_minor": 0,
  "metadata": {
    "colab": {
      "provenance": [],
      "authorship_tag": "ABX9TyMIe6rIadKOGCg8hQyemGjk",
      "include_colab_link": true
    },
    "kernelspec": {
      "name": "python3",
      "display_name": "Python 3"
    },
    "language_info": {
      "name": "python"
    }
  },
  "cells": [
    {
      "cell_type": "markdown",
      "metadata": {
        "id": "view-in-github",
        "colab_type": "text"
      },
      "source": [
        "<a href=\"https://colab.research.google.com/github/ItisIMouhamed/CSC221_mbadj002/blob/main/Week1A.ipynb\" target=\"_parent\"><img src=\"https://colab.research.google.com/assets/colab-badge.svg\" alt=\"Open In Colab\"/></a>"
      ]
    },
    {
      "cell_type": "code",
      "execution_count": 1,
      "metadata": {
        "colab": {
          "base_uri": "https://localhost:8080/"
        },
        "id": "R7BGAMAYLcZ8",
        "outputId": "7bd3eed2-c294-4369-c885-86bce3da4949"
      },
      "outputs": [
        {
          "name": "stdout",
          "output_type": "stream",
          "text": [
            "What is your name? Mouhamed\n"
          ]
        }
      ],
      "source": [
        "name = input(\"What is your name? \")"
      ]
    },
    {
      "cell_type": "code",
      "source": [
        "print(f\"Hello, {name}! \")\n"
      ],
      "metadata": {
        "colab": {
          "base_uri": "https://localhost:8080/"
        },
        "id": "-bQR9SRJL0iI",
        "outputId": "6edaa003-8e90-44e1-b741-8d1b3a9e7b8a"
      },
      "execution_count": 5,
      "outputs": [
        {
          "output_type": "stream",
          "name": "stdout",
          "text": [
            "Hello, Mouhamed! \n"
          ]
        }
      ]
    },
    {
      "cell_type": "code",
      "source": [
        "show = input(\"What is your favorite show? \")\n"
      ],
      "metadata": {
        "colab": {
          "base_uri": "https://localhost:8080/"
        },
        "id": "bUnu-MLpMme8",
        "outputId": "f5d82c66-deb8-468f-b513-57544e3f714c"
      },
      "execution_count": 6,
      "outputs": [
        {
          "name": "stdout",
          "output_type": "stream",
          "text": [
            "What is your favorite show? Amazing World of Gumball\n"
          ]
        }
      ]
    },
    {
      "cell_type": "code",
      "source": [
        "print(f\"Thats cool, {show} is a great show! \")"
      ],
      "metadata": {
        "colab": {
          "base_uri": "https://localhost:8080/"
        },
        "id": "Hi3tlZIuNG2I",
        "outputId": "9623047e-8ef7-43b7-9314-8cfe0262ae5b"
      },
      "execution_count": 10,
      "outputs": [
        {
          "output_type": "stream",
          "name": "stdout",
          "text": [
            "Thats cool, Amazing World of Gumball is a great show! \n"
          ]
        }
      ]
    },
    {
      "cell_type": "code",
      "source": [],
      "metadata": {
        "id": "CTfwwiBJN1JL"
      },
      "execution_count": null,
      "outputs": []
    }
  ]
}