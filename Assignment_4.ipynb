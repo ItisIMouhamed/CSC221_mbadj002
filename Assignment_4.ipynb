{
  "nbformat": 4,
  "nbformat_minor": 0,
  "metadata": {
    "colab": {
      "provenance": [],
      "authorship_tag": "ABX9TyPobE5TyF5bz71nnVcfSmM1",
      "include_colab_link": true
    },
    "kernelspec": {
      "name": "python3",
      "display_name": "Python 3"
    },
    "language_info": {
      "name": "python"
    }
  },
  "cells": [
    {
      "cell_type": "markdown",
      "metadata": {
        "id": "view-in-github",
        "colab_type": "text"
      },
      "source": [
        "<a href=\"https://colab.research.google.com/github/ItisIMouhamed/CSC221_mbadj002/blob/main/Assignment_4.ipynb\" target=\"_parent\"><img src=\"https://colab.research.google.com/assets/colab-badge.svg\" alt=\"Open In Colab\"/></a>"
      ]
    },
    {
      "cell_type": "code",
      "execution_count": null,
      "metadata": {
        "id": "WPR2_broIwMh",
        "colab": {
          "base_uri": "https://localhost:8080/"
        },
        "outputId": "83a7dc76-df1f-40e9-c4bb-9cf41ab42096"
      },
      "outputs": [
        {
          "output_type": "stream",
          "name": "stdout",
          "text": [
            "Hafiz\n",
            "kalvin\n",
            "Mersaides\n",
            "Osei\n"
          ]
        }
      ],
      "source": [
        "# TIY 3-1\n",
        "\n",
        "names = ['Hafiz', 'kalvin', 'Mersaides', 'Osei']\n",
        "print(names[0])\n",
        "print(names[1])\n",
        "print(names[2])\n",
        "print(names[3])"
      ]
    },
    {
      "cell_type": "code",
      "source": [
        "# TIY 3-2\n",
        "\n",
        "names = ['Hafiz', 'Kalvin', 'Mersaides', 'Osei']\n",
        "print(f\"Hello,\",(names[0]))\n",
        "print(f\"Hello,\",(names[1]))\n",
        "print(f\"Hello,\",(names[2]))\n",
        "print(f\"Hello,\",(names[3]))"
      ],
      "metadata": {
        "colab": {
          "base_uri": "https://localhost:8080/"
        },
        "id": "qfR9cj-2IHnf",
        "outputId": "f57484ac-267b-4897-8c8d-4deae789b079"
      },
      "execution_count": null,
      "outputs": [
        {
          "output_type": "stream",
          "name": "stdout",
          "text": [
            "Hello, Hafiz\n",
            "Hello, kalvin\n",
            "Hello, Mersaides\n",
            "Hello, Osei\n"
          ]
        }
      ]
    },
    {
      "cell_type": "code",
      "source": [
        "# TIY 3-3\n",
        "# Transportation list\n",
        "\n",
        "transportation = ['plane', 'cars', 'train']\n",
        "print(f'I would love to fly a {transportation[0]} one day.')\n",
        "print(f'I like {transportation[1]} but they make me a bit nausous.')\n",
        "print(f'Even though I ride the {transportation[2]}, I dont like when it gets crowded.')\n"
      ],
      "metadata": {
        "colab": {
          "base_uri": "https://localhost:8080/"
        },
        "id": "mpxiWX20xOlh",
        "outputId": "9201ac9a-c44b-4422-b8e2-5004f37f23ab"
      },
      "execution_count": null,
      "outputs": [
        {
          "output_type": "stream",
          "name": "stdout",
          "text": [
            "I would love to fly a plane one day.\n",
            "I like cars but they make me a bit nausous.\n",
            "Even though I ride the train, I dont like when it gets crowded.\n"
          ]
        }
      ]
    },
    {
      "cell_type": "code",
      "source": [
        "# TIY 3-4\n",
        "\n",
        "guest = ['Dave Chappelle', 'Mike Tyson', 'Michael Jackson']\n",
        "print(f'Hello, {guest[0]}, I would like to invite you to dinner.')\n",
        "print(f'Hello, {guest[1]}, I would like to invite you to dinner.')\n",
        "print(f'Hello, {guest[2]}, I would like to invite you to dinner.')"
      ],
      "metadata": {
        "colab": {
          "base_uri": "https://localhost:8080/"
        },
        "id": "HvrG6tmF4DSM",
        "outputId": "636b6cdd-8dfc-4772-bac4-fa039ea361db"
      },
      "execution_count": null,
      "outputs": [
        {
          "output_type": "stream",
          "name": "stdout",
          "text": [
            "Hello, Dave Chappelle, I would like to invite you to dinner.\n",
            "Hello, Mike Tyson, I would like to invite you to dinner.\n",
            "Hello, Michael Jackson, I would like to invite you to dinner.\n"
          ]
        }
      ]
    },
    {
      "cell_type": "code",
      "source": [
        "# TIY 3-5\n",
        "\n",
        "guest = ['Dave Chappelle', 'Mike Tyson', 'Michael Jackson']\n",
        "print(f'Hello, {guest[0]}, I would like to invite you to dinner.')\n",
        "print(f'Hello, {guest[1]}, I would like to invite you to dinner.')\n",
        "print(f'Hello, {guest[2]}, I would like to invite you to dinner.')\n",
        "print(f'{guest[2]} can not make it to dinner.')\n",
        "del guest[2]\n",
        "print(guest)\n",
        "print(f'Hello,{guest[0]}, would you like to come over for dinner?')\n",
        "print(f'Hello,{guest[1]}, would you like to come over for dinner?')"
      ],
      "metadata": {
        "colab": {
          "base_uri": "https://localhost:8080/"
        },
        "id": "8N0HbdWCJfsQ",
        "outputId": "f0781521-41d1-4b02-ab7b-7c4f9fec5c4d"
      },
      "execution_count": null,
      "outputs": [
        {
          "output_type": "stream",
          "name": "stdout",
          "text": [
            "Hello, Dave Chappelle, I would like to invite you to dinner.\n",
            "Hello, Mike Tyson, I would like to invite you to dinner.\n",
            "Hello, Michael Jackson, I would like to invite you to dinner.\n",
            "Michael Jackson can not make it to dinner.\n",
            "['Dave Chappelle', 'Mike Tyson']\n",
            "Hello,Dave Chappelle, would you like to come over for dinner?\n",
            "Hello,Mike Tyson, would you like to come over for dinner?\n"
          ]
        }
      ]
    },
    {
      "cell_type": "code",
      "source": [
        "# TIY 3-6\n",
        "\n",
        "guest = ['Dave Chappelle', 'Mike Tyson']\n",
        "print(f'Hello, {guest[0]} and {guest[1]}, we found a bigger table so we will be inviting more people to dinner.')\n",
        "guest.insert(0, 'Ryan Reynolds')\n",
        "guest.insert(2, 'Bernie Mac')\n",
        "guest.append('Bill Burr')\n",
        "print(guest)\n",
        "print(f'Hello, {guest[0]}, I would like to invite you to dinner.')\n",
        "print(f'Hello, {guest[1]}, I would like to invite you to dinner.')\n",
        "print(f'Hello, {guest[2]}, I would like to invite you to dinner.')\n",
        "print(f'Hello, {guest[3]}, I would like to invite you to dinner.')\n",
        "print(f'Hello, {guest[4]}, I would like to invite you to dinner.')"
      ],
      "metadata": {
        "colab": {
          "base_uri": "https://localhost:8080/"
        },
        "id": "IM8h1-voNvho",
        "outputId": "11515d8e-027f-4333-ae72-4f8781c86f77"
      },
      "execution_count": null,
      "outputs": [
        {
          "output_type": "stream",
          "name": "stdout",
          "text": [
            "Hello, Dave Chappelle and Mike Tyson, we found a bigger table so we will be inviting more people to dinner.\n",
            "['Ryan Reynolds', 'Dave Chappelle', 'Bernie Mac', 'Mike Tyson', 'Bill Burr']\n",
            "Hello, Ryan Reynolds, I would like to invite you to dinner.\n",
            "Hello, Dave Chappelle, I would like to invite you to dinner.\n",
            "Hello, Bernie Mac, I would like to invite you to dinner.\n",
            "Hello, Mike Tyson, I would like to invite you to dinner.\n",
            "Hello, Bill Burr, I would like to invite you to dinner.\n"
          ]
        }
      ]
    },
    {
      "cell_type": "code",
      "source": [
        "# TIY 3-7\n",
        "guest = ['Ryan Reynolds', 'Dave Chappelle', 'Bernie Mac', 'Mike Tyson', 'Bill Burr']\n",
        "print(guest)\n",
        "popped_guest_one = guest.pop()\n",
        "popped_guest_two = guest.pop(3)\n",
        "popped_guest_three = guest.pop(0)\n",
        "print(popped_guest_one)\n",
        "print(popped_guest_two)\n",
        "print(popped_guest_three)\n",
        "print(f'I apologize guest but I can only invite two pwople to dinner now.')\n",
        "print(guest)\n",
        "del guest[0]\n",
        "del guest[0]\n",
        "print(guest)\n",
        "\n",
        "\n"
      ],
      "metadata": {
        "colab": {
          "base_uri": "https://localhost:8080/"
        },
        "id": "dMNgDEtMQzJg",
        "outputId": "54d4364b-ec83-40c3-a1f1-e4aa758bc361"
      },
      "execution_count": null,
      "outputs": [
        {
          "output_type": "stream",
          "name": "stdout",
          "text": [
            "['Ryan Reynolds', 'Dave Chappelle', 'Bernie Mac', 'Mike Tyson', 'Bill Burr']\n",
            "Bill Burr\n",
            "Mike Tyson\n",
            "Ryan Reynolds\n",
            "I apologize guest but I can only invite two pwople to dinner now.\n",
            "['Dave Chappelle', 'Bernie Mac']\n",
            "[]\n"
          ]
        }
      ]
    },
    {
      "cell_type": "code",
      "source": [
        "# TIY 3-8\n",
        "\n",
        "locations = ['Japan','Paris', 'Dubai', 'Rome', 'Bali' ]\n",
        "#1\n",
        "print(locations)\n",
        "#2\n",
        "print(sorted(locations))\n",
        "#3\n",
        "print(locations)\n",
        "#4\n",
        "print(locations.sort(reverse=True))\n",
        "#5\n",
        "print(locations)\n",
        "#6\n",
        "locations.reverse()\n",
        "#7\n",
        "print(locations)\n",
        "#8\n",
        "locations.reverse()\n",
        "#9\n",
        "print(sorted(locations))\n",
        "#10\n",
        "print(locations.sort(reverse=True))\n",
        "\n",
        "\n",
        "\n"
      ],
      "metadata": {
        "colab": {
          "base_uri": "https://localhost:8080/"
        },
        "id": "oaI0kzHa0sLe",
        "outputId": "3c6a3f7f-8689-48ee-a1fa-bd6d8a8bc63e"
      },
      "execution_count": 6,
      "outputs": [
        {
          "output_type": "stream",
          "name": "stdout",
          "text": [
            "['Japan', 'Paris', 'Dubai', 'Rome', 'Bali']\n",
            "['Bali', 'Dubai', 'Japan', 'Paris', 'Rome']\n",
            "['Japan', 'Paris', 'Dubai', 'Rome', 'Bali']\n",
            "None\n",
            "['Rome', 'Paris', 'Japan', 'Dubai', 'Bali']\n",
            "['Bali', 'Dubai', 'Japan', 'Paris', 'Rome']\n",
            "['Bali', 'Dubai', 'Japan', 'Paris', 'Rome']\n",
            "None\n"
          ]
        }
      ]
    },
    {
      "cell_type": "code",
      "source": [
        "# TIY 3-9\n",
        "\n",
        "guest = ['Dave Chappelle', 'Mike Tyson', 'Michael Jackson']\n",
        "len(guest)"
      ],
      "metadata": {
        "colab": {
          "base_uri": "https://localhost:8080/"
        },
        "id": "ndeb1GhtY9Z5",
        "outputId": "c8824c23-43ac-4056-b711-d547320a58e1"
      },
      "execution_count": 7,
      "outputs": [
        {
          "output_type": "execute_result",
          "data": {
            "text/plain": [
              "3"
            ]
          },
          "metadata": {},
          "execution_count": 7
        }
      ]
    },
    {
      "cell_type": "code",
      "source": [
        "# TIY 3-10\n",
        "\n",
        "fruits = ['grapes', 'mango', 'watermelon', 'bannana']\n",
        "print(fruits[0])\n",
        "fruits.append('pineapple')\n",
        "print(fruits)\n",
        "fruits.insert(0, 'pineapple')\n",
        "print(fruits)\n",
        "del fruits[0]\n",
        "print(fruits)\n",
        "popped_fruits = fruits.pop()\n",
        "print(fruits)\n",
        "print(popped_fruits)\n",
        "print(fruits)\n",
        "fruits.remove('bannana')\n",
        "print(fruits)\n",
        "fruits.sort()\n",
        "print(fruits)\n",
        "fruits.reverse()\n",
        "print(fruits)\n",
        "len(fruits)"
      ],
      "metadata": {
        "colab": {
          "base_uri": "https://localhost:8080/"
        },
        "id": "TPri4fMzbBbU",
        "outputId": "1a8a7771-7c72-4be3-9e59-0ffa592f8cf5"
      },
      "execution_count": 13,
      "outputs": [
        {
          "output_type": "stream",
          "name": "stdout",
          "text": [
            "grapes\n",
            "['grapes', 'mango', 'watermelon', 'bannana', 'pineapple']\n",
            "['pineapple', 'grapes', 'mango', 'watermelon', 'bannana', 'pineapple']\n",
            "['grapes', 'mango', 'watermelon', 'bannana', 'pineapple']\n",
            "['grapes', 'mango', 'watermelon', 'bannana']\n",
            "pineapple\n",
            "['grapes', 'mango', 'watermelon', 'bannana']\n",
            "['grapes', 'mango', 'watermelon']\n",
            "['grapes', 'mango', 'watermelon']\n",
            "['watermelon', 'mango', 'grapes']\n"
          ]
        },
        {
          "output_type": "execute_result",
          "data": {
            "text/plain": [
              "3"
            ]
          },
          "metadata": {},
          "execution_count": 13
        }
      ]
    },
    {
      "cell_type": "code",
      "source": [
        "# TIY 3-11\n",
        "\n",
        "fruits = ['grapes', 'mango', 'watermelon', 'bannana']\n",
        "print(fruits[5])"
      ],
      "metadata": {
        "colab": {
          "base_uri": "https://localhost:8080/",
          "height": 176
        },
        "id": "Z_b7PuEGgM0T",
        "outputId": "85a6dd34-1ccb-4847-a46f-f27c468fe418"
      },
      "execution_count": 14,
      "outputs": [
        {
          "output_type": "error",
          "ename": "IndexError",
          "evalue": "list index out of range",
          "traceback": [
            "\u001b[0;31m---------------------------------------------------------------------------\u001b[0m",
            "\u001b[0;31mIndexError\u001b[0m                                Traceback (most recent call last)",
            "\u001b[0;32m<ipython-input-14-5285eebe9890>\u001b[0m in \u001b[0;36m<cell line: 4>\u001b[0;34m()\u001b[0m\n\u001b[1;32m      2\u001b[0m \u001b[0;34m\u001b[0m\u001b[0m\n\u001b[1;32m      3\u001b[0m \u001b[0mfruits\u001b[0m \u001b[0;34m=\u001b[0m \u001b[0;34m[\u001b[0m\u001b[0;34m'grapes'\u001b[0m\u001b[0;34m,\u001b[0m \u001b[0;34m'mango'\u001b[0m\u001b[0;34m,\u001b[0m \u001b[0;34m'watermelon'\u001b[0m\u001b[0;34m,\u001b[0m \u001b[0;34m'bannana'\u001b[0m\u001b[0;34m]\u001b[0m\u001b[0;34m\u001b[0m\u001b[0;34m\u001b[0m\u001b[0m\n\u001b[0;32m----> 4\u001b[0;31m \u001b[0mprint\u001b[0m\u001b[0;34m(\u001b[0m\u001b[0mfruits\u001b[0m\u001b[0;34m[\u001b[0m\u001b[0;36m5\u001b[0m\u001b[0;34m]\u001b[0m\u001b[0;34m)\u001b[0m\u001b[0;34m\u001b[0m\u001b[0;34m\u001b[0m\u001b[0m\n\u001b[0m",
            "\u001b[0;31mIndexError\u001b[0m: list index out of range"
          ]
        }
      ]
    }
  ]
}