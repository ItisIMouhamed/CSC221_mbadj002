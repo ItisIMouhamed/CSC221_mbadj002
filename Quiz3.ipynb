{
  "nbformat": 4,
  "nbformat_minor": 0,
  "metadata": {
    "colab": {
      "provenance": [],
      "authorship_tag": "ABX9TyMdirG3C3bjp17LpgLo9hHu",
      "include_colab_link": true
    },
    "kernelspec": {
      "name": "python3",
      "display_name": "Python 3"
    },
    "language_info": {
      "name": "python"
    }
  },
  "cells": [
    {
      "cell_type": "markdown",
      "metadata": {
        "id": "view-in-github",
        "colab_type": "text"
      },
      "source": [
        "<a href=\"https://colab.research.google.com/github/ItisIMouhamed/CSC221_mbadj002/blob/main/Quiz3.ipynb\" target=\"_parent\"><img src=\"https://colab.research.google.com/assets/colab-badge.svg\" alt=\"Open In Colab\"/></a>"
      ]
    },
    {
      "cell_type": "markdown",
      "source": [
        "# input"
      ],
      "metadata": {
        "id": "Mz3Ckh7O3xXi"
      }
    },
    {
      "cell_type": "code",
      "source": [
        "user_input = input(\"What is your favorite food: \")\n",
        "print(\"You entered: \", user_input)\n"
      ],
      "metadata": {
        "colab": {
          "base_uri": "https://localhost:8080/"
        },
        "id": "Wdp0q51YBjHT",
        "outputId": "2f9b2efc-6b82-4ebd-a03d-d794666ddab2"
      },
      "execution_count": 1,
      "outputs": [
        {
          "output_type": "stream",
          "name": "stdout",
          "text": [
            "What is your favorite food: Chicken\n",
            "You entered:  Chicken\n"
          ]
        }
      ]
    },
    {
      "cell_type": "markdown",
      "source": [
        "# Print"
      ],
      "metadata": {
        "id": "QnIpFjW3DEIj"
      }
    },
    {
      "cell_type": "code",
      "source": [
        "print(\"Hello, my name is Mouhamed\")"
      ],
      "metadata": {
        "colab": {
          "base_uri": "https://localhost:8080/"
        },
        "id": "N9eGbtjWDrBL",
        "outputId": "7289835b-f5b0-40d4-b02b-9cbb21d1bf3a"
      },
      "execution_count": 2,
      "outputs": [
        {
          "output_type": "stream",
          "name": "stdout",
          "text": [
            "Hello, my name is Mouhamed\n"
          ]
        }
      ]
    },
    {
      "cell_type": "markdown",
      "source": [
        "# len"
      ],
      "metadata": {
        "id": "RsdvHyDfEpf7"
      }
    },
    {
      "cell_type": "code",
      "source": [
        "print(len(\"Hello, World!\"))\n"
      ],
      "metadata": {
        "colab": {
          "base_uri": "https://localhost:8080/"
        },
        "id": "53dF5-4YF8e9",
        "outputId": "201e4582-b420-4b70-aa8f-743e1d464ca6"
      },
      "execution_count": 3,
      "outputs": [
        {
          "output_type": "stream",
          "name": "stdout",
          "text": [
            "13\n"
          ]
        }
      ]
    },
    {
      "cell_type": "markdown",
      "source": [
        "# int"
      ],
      "metadata": {
        "id": "EBnR_YTaF_Fk"
      }
    },
    {
      "cell_type": "code",
      "source": [
        "print(int(\"123\"))\n"
      ],
      "metadata": {
        "colab": {
          "base_uri": "https://localhost:8080/"
        },
        "id": "9Pynhvp6Gns2",
        "outputId": "9e11e7c6-3504-493d-e20a-088ca7e520ba"
      },
      "execution_count": 4,
      "outputs": [
        {
          "output_type": "stream",
          "name": "stdout",
          "text": [
            "123\n"
          ]
        }
      ]
    },
    {
      "cell_type": "markdown",
      "source": [
        "# str"
      ],
      "metadata": {
        "id": "mjlU8QunHthA"
      }
    },
    {
      "cell_type": "code",
      "source": [
        "print(str(200))\n"
      ],
      "metadata": {
        "colab": {
          "base_uri": "https://localhost:8080/"
        },
        "id": "W5qRJuCtHyjD",
        "outputId": "549779eb-3fa1-4fea-ec8a-b8bb5f2389a8"
      },
      "execution_count": 5,
      "outputs": [
        {
          "output_type": "stream",
          "name": "stdout",
          "text": [
            "200\n"
          ]
        }
      ]
    },
    {
      "cell_type": "markdown",
      "source": [
        "# float"
      ],
      "metadata": {
        "id": "_3q7Ts2xH6-i"
      }
    },
    {
      "cell_type": "code",
      "source": [
        "print(float(\"198.45\"))"
      ],
      "metadata": {
        "colab": {
          "base_uri": "https://localhost:8080/"
        },
        "id": "TWJMdK3YJEyU",
        "outputId": "d081934a-89fc-4dfe-d27f-ec27e533910c"
      },
      "execution_count": 7,
      "outputs": [
        {
          "output_type": "stream",
          "name": "stdout",
          "text": [
            "198.45\n"
          ]
        }
      ]
    },
    {
      "cell_type": "markdown",
      "source": [
        "# list"
      ],
      "metadata": {
        "id": "Y7VINOB9KHXX"
      }
    },
    {
      "cell_type": "code",
      "source": [
        "print(list(\"Hello\"))\n"
      ],
      "metadata": {
        "colab": {
          "base_uri": "https://localhost:8080/"
        },
        "id": "EDv52sqwKMus",
        "outputId": "820129c6-8673-4f5c-f649-ab8c8ef3a918"
      },
      "execution_count": 8,
      "outputs": [
        {
          "output_type": "stream",
          "name": "stdout",
          "text": [
            "['H', 'e', 'l', 'l', 'o']\n"
          ]
        }
      ]
    },
    {
      "cell_type": "markdown",
      "source": [
        "# set"
      ],
      "metadata": {
        "id": "Q-CYsdRTKll1"
      }
    },
    {
      "cell_type": "code",
      "source": [
        "print(set([1, 2, 2, 3, 3, 3]))\n"
      ],
      "metadata": {
        "colab": {
          "base_uri": "https://localhost:8080/"
        },
        "id": "I4TriV0vK7dd",
        "outputId": "8e40fd2f-1095-4c62-c8db-90d2d4597b5d"
      },
      "execution_count": 9,
      "outputs": [
        {
          "output_type": "stream",
          "name": "stdout",
          "text": [
            "{1, 2, 3}\n"
          ]
        }
      ]
    },
    {
      "cell_type": "markdown",
      "source": [
        "# dict"
      ],
      "metadata": {
        "id": "EQzcSYgyMwUC"
      }
    },
    {
      "cell_type": "code",
      "source": [
        "print(dict(a=1, b=2))\n"
      ],
      "metadata": {
        "colab": {
          "base_uri": "https://localhost:8080/"
        },
        "id": "y-qQM1hZM5yp",
        "outputId": "75902f58-8a12-4d2b-bbc9-77be9149d3ec"
      },
      "execution_count": 10,
      "outputs": [
        {
          "output_type": "stream",
          "name": "stdout",
          "text": [
            "{'a': 1, 'b': 2}\n"
          ]
        }
      ]
    },
    {
      "cell_type": "markdown",
      "source": [
        "# sum"
      ],
      "metadata": {
        "id": "bvCCZhZcRKor"
      }
    },
    {
      "cell_type": "code",
      "source": [
        "print(sum([1, 2, 3, 4, 5]))"
      ],
      "metadata": {
        "colab": {
          "base_uri": "https://localhost:8080/"
        },
        "id": "yTkDNvwJRSlH",
        "outputId": "0264fca3-666b-4c2a-da74-11940df5a107"
      },
      "execution_count": 11,
      "outputs": [
        {
          "output_type": "stream",
          "name": "stdout",
          "text": [
            "15\n"
          ]
        }
      ]
    },
    {
      "cell_type": "markdown",
      "source": [
        "# min"
      ],
      "metadata": {
        "id": "5DF-zVKNRcz6"
      }
    },
    {
      "cell_type": "code",
      "source": [
        "print(min([1, 2, 3, 4, 5]))\n"
      ],
      "metadata": {
        "colab": {
          "base_uri": "https://localhost:8080/"
        },
        "id": "Ga_PACMrRn4r",
        "outputId": "83c8a9e1-8411-405f-bc6c-790147ef6988"
      },
      "execution_count": 12,
      "outputs": [
        {
          "output_type": "stream",
          "name": "stdout",
          "text": [
            "1\n"
          ]
        }
      ]
    },
    {
      "cell_type": "markdown",
      "source": [
        "# max"
      ],
      "metadata": {
        "id": "cGeJ01TeRqOE"
      }
    },
    {
      "cell_type": "code",
      "source": [
        "print(max([1, 2, 3, 4, 5]))\n"
      ],
      "metadata": {
        "colab": {
          "base_uri": "https://localhost:8080/"
        },
        "id": "lt5BM7n7Rrxx",
        "outputId": "f48df09d-2f6a-4d95-e56f-fd5f720edd5b"
      },
      "execution_count": 13,
      "outputs": [
        {
          "output_type": "stream",
          "name": "stdout",
          "text": [
            "5\n"
          ]
        }
      ]
    },
    {
      "cell_type": "markdown",
      "source": [
        "# range"
      ],
      "metadata": {
        "id": "h5qVaEx2Rx7M"
      }
    },
    {
      "cell_type": "code",
      "source": [
        "print(list(range(5)))\n"
      ],
      "metadata": {
        "colab": {
          "base_uri": "https://localhost:8080/"
        },
        "id": "gWPjPUeJSCRL",
        "outputId": "812a7cd1-1e40-4b97-9e4c-2c00ca1fe848"
      },
      "execution_count": 14,
      "outputs": [
        {
          "output_type": "stream",
          "name": "stdout",
          "text": [
            "[0, 1, 2, 3, 4]\n"
          ]
        }
      ]
    },
    {
      "cell_type": "markdown",
      "source": [
        "# sorted"
      ],
      "metadata": {
        "id": "yEsjt6tYSQKF"
      }
    },
    {
      "cell_type": "code",
      "source": [
        "print(sorted([3, 1, 4, 45, 5, 9]))\n"
      ],
      "metadata": {
        "colab": {
          "base_uri": "https://localhost:8080/"
        },
        "id": "gbaPhzMrSh7r",
        "outputId": "f3a4aaff-8127-497e-af49-f03c1befa0a3"
      },
      "execution_count": 16,
      "outputs": [
        {
          "output_type": "stream",
          "name": "stdout",
          "text": [
            "[1, 3, 4, 5, 9, 45]\n"
          ]
        }
      ]
    },
    {
      "cell_type": "markdown",
      "source": [
        "# reversed"
      ],
      "metadata": {
        "id": "D2RtJoqfSp-o"
      }
    },
    {
      "cell_type": "code",
      "source": [
        "print(list(reversed([1, 2, 3, 4, 5])))\n"
      ],
      "metadata": {
        "colab": {
          "base_uri": "https://localhost:8080/"
        },
        "id": "8FUIEEbYS2th",
        "outputId": "042f5561-5df2-43f8-d7dd-205d3411cc6d"
      },
      "execution_count": 17,
      "outputs": [
        {
          "output_type": "stream",
          "name": "stdout",
          "text": [
            "[5, 4, 3, 2, 1]\n"
          ]
        }
      ]
    },
    {
      "cell_type": "markdown",
      "source": [
        "# round"
      ],
      "metadata": {
        "id": "4NoEHbodTDEg"
      }
    },
    {
      "cell_type": "code",
      "source": [
        "print(round(123.456, 2))\n"
      ],
      "metadata": {
        "colab": {
          "base_uri": "https://localhost:8080/"
        },
        "id": "12tS5-fZTWq5",
        "outputId": "fa8a9d32-d279-4843-a581-aa896666c848"
      },
      "execution_count": 18,
      "outputs": [
        {
          "output_type": "stream",
          "name": "stdout",
          "text": [
            "123.46\n"
          ]
        }
      ]
    },
    {
      "cell_type": "markdown",
      "source": [
        "# all"
      ],
      "metadata": {
        "id": "JRP3WkJhTp89"
      }
    },
    {
      "cell_type": "code",
      "source": [
        "numbers = [1, 2, 3, 4, 5]\n",
        "print(all(numbers))\n"
      ],
      "metadata": {
        "colab": {
          "base_uri": "https://localhost:8080/"
        },
        "id": "Rd-b6tKnU5ck",
        "outputId": "0cba89f5-d688-4608-8c50-4692186b8918"
      },
      "execution_count": 20,
      "outputs": [
        {
          "output_type": "stream",
          "name": "stdout",
          "text": [
            "True\n"
          ]
        }
      ]
    },
    {
      "cell_type": "markdown",
      "source": [
        "# any"
      ],
      "metadata": {
        "id": "uOHH3vlRVDN0"
      }
    },
    {
      "cell_type": "code",
      "source": [
        "numbers = [0, 1, 2, 3, 4]\n",
        "print(any(numbers))\n"
      ],
      "metadata": {
        "colab": {
          "base_uri": "https://localhost:8080/"
        },
        "id": "cdMoBA0ZVOMR",
        "outputId": "54b86229-2722-4025-92bc-4469692e38fd"
      },
      "execution_count": 21,
      "outputs": [
        {
          "output_type": "stream",
          "name": "stdout",
          "text": [
            "True\n"
          ]
        }
      ]
    },
    {
      "cell_type": "markdown",
      "source": [
        "# slice"
      ],
      "metadata": {
        "id": "v73E82oqVWlP"
      }
    },
    {
      "cell_type": "code",
      "source": [
        "my_slice = slice(1, 5)\n",
        "print(my_slice)\n"
      ],
      "metadata": {
        "colab": {
          "base_uri": "https://localhost:8080/"
        },
        "id": "UpB13mV9V7nI",
        "outputId": "6326fb53-be7c-433c-b85b-add391fb826b"
      },
      "execution_count": 22,
      "outputs": [
        {
          "output_type": "stream",
          "name": "stdout",
          "text": [
            "slice(1, 5, None)\n"
          ]
        }
      ]
    },
    {
      "cell_type": "markdown",
      "source": [
        "# bin\n"
      ],
      "metadata": {
        "id": "fc_BP95kWSvV"
      }
    },
    {
      "cell_type": "code",
      "source": [
        "print(bin(10))\n"
      ],
      "metadata": {
        "colab": {
          "base_uri": "https://localhost:8080/"
        },
        "id": "F5KnFFiNXAVV",
        "outputId": "af039259-a9f7-4013-8f3b-6db3a2f4a48c"
      },
      "execution_count": 23,
      "outputs": [
        {
          "output_type": "stream",
          "name": "stdout",
          "text": [
            "0b1010\n"
          ]
        }
      ]
    }
  ]
}