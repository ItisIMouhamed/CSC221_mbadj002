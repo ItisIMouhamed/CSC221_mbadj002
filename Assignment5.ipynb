{
  "nbformat": 4,
  "nbformat_minor": 0,
  "metadata": {
    "colab": {
      "provenance": [],
      "authorship_tag": "ABX9TyM1ArhEWQVRsUD0TsPeXZQn",
      "include_colab_link": true
    },
    "kernelspec": {
      "name": "python3",
      "display_name": "Python 3"
    },
    "language_info": {
      "name": "python"
    }
  },
  "cells": [
    {
      "cell_type": "markdown",
      "metadata": {
        "id": "view-in-github",
        "colab_type": "text"
      },
      "source": [
        "<a href=\"https://colab.research.google.com/github/ItisIMouhamed/CSC221_mbadj002/blob/main/Assignment5.ipynb\" target=\"_parent\"><img src=\"https://colab.research.google.com/assets/colab-badge.svg\" alt=\"Open In Colab\"/></a>"
      ]
    },
    {
      "cell_type": "code",
      "execution_count": 3,
      "metadata": {
        "colab": {
          "base_uri": "https://localhost:8080/"
        },
        "id": "Rm7TmgcrXMZf",
        "outputId": "ef5a5aba-8337-4453-f060-243615136652"
      },
      "outputs": [
        {
          "output_type": "stream",
          "name": "stdout",
          "text": [
            "Cheese, is my favorite type of pizza\n",
            "cheese\n",
            "Pineapple, is my favorite type of pizza\n",
            "pineapple\n",
            "Chicken, is my favorite type of pizza\n",
            "chicken\n",
            "I really love pizza!\n"
          ]
        }
      ],
      "source": [
        "# TIY 4-1\n",
        "\n",
        "pizzas = ['cheese', 'pineapple', 'chicken']\n",
        "for pizzas in pizzas:\n",
        "    print(f\"{pizzas.title()}, is my favorite type of pizza\")\n",
        "    print(pizzas)\n",
        "print(f\"I really love pizza!\")"
      ]
    },
    {
      "cell_type": "code",
      "source": [
        "# TIY 4-2\n",
        "\n",
        "animals = ['dogs', 'cats', 'tigers']\n",
        "for animals in animals:\n",
        "    print(animals)\n",
        "    print(f'{animals.title()}, would make a great pet.')\n",
        "print(f\"All of these animals look so cool!\")"
      ],
      "metadata": {
        "colab": {
          "base_uri": "https://localhost:8080/"
        },
        "id": "t64IQCbHhpfC",
        "outputId": "e70ec564-62db-4276-cc67-0813f8521957"
      },
      "execution_count": 6,
      "outputs": [
        {
          "output_type": "stream",
          "name": "stdout",
          "text": [
            "dogs\n",
            "Dogs, would make a great pet.\n",
            "cats\n",
            "Cats, would make a great pet.\n",
            "tigers\n",
            "Tigers, would make a great pet.\n",
            "All of these animals look so cool!\n"
          ]
        }
      ]
    },
    {
      "cell_type": "code",
      "source": [
        "# TIY 4-3\n",
        "\n",
        "numbers = list(range(1,21))\n",
        "print(numbers)"
      ],
      "metadata": {
        "colab": {
          "base_uri": "https://localhost:8080/"
        },
        "id": "UmPawXqDjjSh",
        "outputId": "cee99ec9-1a0e-471f-890e-aaef487b5810"
      },
      "execution_count": 9,
      "outputs": [
        {
          "output_type": "stream",
          "name": "stdout",
          "text": [
            "[1, 2, 3, 4, 5, 6, 7, 8, 9, 10, 11, 12, 13, 14, 15, 16, 17, 18, 19, 20]\n"
          ]
        }
      ]
    },
    {
      "cell_type": "code",
      "source": [
        "# TIY 4-4\n",
        "\n",
        "numbers = list(range(1-1000000))\n",
        "print(numbers)"
      ],
      "metadata": {
        "colab": {
          "base_uri": "https://localhost:8080/"
        },
        "id": "PPI_Fci6qg6K",
        "outputId": "1ada462c-6d62-4c20-db0e-84c1d9e02e6f"
      },
      "execution_count": 11,
      "outputs": [
        {
          "output_type": "stream",
          "name": "stdout",
          "text": [
            "[]\n"
          ]
        }
      ]
    },
    {
      "cell_type": "code",
      "source": [
        "# The TIY from 4-4 to 4-9 seem a bit redundent to me so I am deciding to skip it"
      ],
      "metadata": {
        "id": "rjdb6giptYC5"
      },
      "execution_count": null,
      "outputs": []
    },
    {
      "cell_type": "code",
      "source": [
        "# TIY 4-10\n",
        "\n",
        "animals = ['dogs', 'cats', 'tigers', 'bears', 'lions']\n",
        "print(f'the first three  items in the list are:')\n",
        "for animals in animals[0:3]:\n",
        "    print(animals.title())\n",
        "\n",
        "animals = ['dogs', 'cats', 'tigers', 'bears', 'lions']\n",
        "print(f'the middle three items in the list are:')\n",
        "for animals in animals[1:4]:\n",
        "    print(animals.title())\n",
        "\n",
        "animals = ['dogs', 'cats', 'tigers', 'bears', 'lions']\n",
        "print(f'the last three items in the list are:')\n",
        "for animals in animals [2:]:\n",
        "    print(animals.title())"
      ],
      "metadata": {
        "colab": {
          "base_uri": "https://localhost:8080/"
        },
        "id": "BLB92Kcjtg8F",
        "outputId": "e3c7b9d0-5d8d-473f-9e5b-4b0a7fa06b6b"
      },
      "execution_count": 12,
      "outputs": [
        {
          "output_type": "stream",
          "name": "stdout",
          "text": [
            "the first three  items in the list are:\n",
            "Dogs\n",
            "Cats\n",
            "Tigers\n",
            "the middle three items in the list are:\n",
            "Cats\n",
            "Tigers\n",
            "Bears\n",
            "the last three items in the list are:\n",
            "Tigers\n",
            "Bears\n",
            "Lions\n"
          ]
        }
      ]
    },
    {
      "cell_type": "code",
      "source": [
        "# TIY 4-11 to 4-12 sems redudent so I will skip"
      ],
      "metadata": {
        "id": "icseu5wSBxNR"
      },
      "execution_count": null,
      "outputs": []
    },
    {
      "cell_type": "code",
      "source": [
        "# TIY 4-13\n",
        "\n",
        "resturant = ('burger', 'chicken', 'fries','pizza','rice')\n",
        "for resturant in resturant:\n",
        "    print(resturant)\n",
        "\n",
        "\n",
        "resturant = ('burger', 'chicken', 'fries','pizza','rice')\n",
        "print(f'orginal resturant:')\n",
        "for resturant in resturant:\n",
        "    print(resturant)\n",
        "\n",
        "resturant = ('burger', 'chicken', 'fries','pizza','rice')\n",
        "print(f'\\nmodified resturant:')\n",
        "for resturant in resturant:\n",
        "    print(resturant)\n",
        "\n",
        "\n"
      ],
      "metadata": {
        "colab": {
          "base_uri": "https://localhost:8080/"
        },
        "id": "2rTxaTnEB4uU",
        "outputId": "6cb50b06-c7f4-4089-f41d-7f4d1352e2cf"
      },
      "execution_count": 16,
      "outputs": [
        {
          "output_type": "stream",
          "name": "stdout",
          "text": [
            "burger\n",
            "chicken\n",
            "fries\n",
            "pizza\n",
            "rice\n",
            "orginal resturant:\n",
            "burger\n",
            "chicken\n",
            "fries\n",
            "pizza\n",
            "rice\n",
            "\n",
            "modified resturant:\n",
            "burger\n",
            "chicken\n",
            "fries\n",
            "pizza\n",
            "rice\n"
          ]
        }
      ]
    },
    {
      "cell_type": "code",
      "source": [
        "# TIY 4-15 \"Using pep8\"\n",
        "\n",
        "#First Coding example\n",
        "\n",
        "animals = ['dogs', 'cats', 'tigers', 'bears', 'lions']\n",
        "print(f'\\nthe first three  items in the list are:')\n",
        "for animals in animals[0:3]:\n",
        "    print(animals.title())\n",
        "\n",
        "\n",
        "\n",
        "animals = ['dogs', 'cats', 'tigers', 'bears', 'lions']\n",
        "print(f'\\nthe middle three items in the list are:')\n",
        "for animals in animals[1:4]:\n",
        "    print(animals.title())\n",
        "\n",
        "#Second Coding example\n",
        "print('\\n')\n",
        "numbers = list(\n",
        "    range(1,21))\n",
        "\n",
        "print(numbers)\n",
        "\n",
        "#Third coding example\n",
        "print('\\n')\n",
        "animals = ['dogs', 'cats', 'tigers']\n",
        "for animals in animals:\n",
        "    print(animals)\n",
        "\n",
        "    print(f'\\n{animals.title()}, would make a great pet.')\n",
        "\n",
        "print(f\"All of these animals look so cool!\")\n",
        "\n"
      ],
      "metadata": {
        "colab": {
          "base_uri": "https://localhost:8080/"
        },
        "id": "Xuq76jqMWj87",
        "outputId": "d46aebf6-bd80-40e0-f391-1d93232083b4"
      },
      "execution_count": 30,
      "outputs": [
        {
          "output_type": "stream",
          "name": "stdout",
          "text": [
            "\n",
            "the first three  items in the list are:\n",
            "Dogs\n",
            "Cats\n",
            "Tigers\n",
            "\n",
            "the middle three items in the list are:\n",
            "Cats\n",
            "Tigers\n",
            "Bears\n",
            "\n",
            "\n",
            "[1, 2, 3, 4, 5, 6, 7, 8, 9, 10, 11, 12, 13, 14, 15, 16, 17, 18, 19, 20]\n",
            "\n",
            "\n",
            "dogs\n",
            "\n",
            "Dogs, would make a great pet.\n",
            "cats\n",
            "\n",
            "Cats, would make a great pet.\n",
            "tigers\n",
            "\n",
            "Tigers, would make a great pet.\n",
            "All of these animals look so cool!\n"
          ]
        }
      ]
    },
    {
      "cell_type": "code",
      "source": [
        "# factorial n function\n",
        "\n",
        "# We always use \"def\" in order to define a function\n",
        "def factorial(n):\n",
        "    product = 1\n",
        "    my_list = list(range(1,n+1))\n",
        "    for num in my_list:\n",
        "        product = product * num\n",
        "    return product\n",
        "\n",
        "print(factorial(5))\n",
        "print(factorial(10))\n",
        "print(factorial(20))\n",
        "print(factorial(50))"
      ],
      "metadata": {
        "colab": {
          "base_uri": "https://localhost:8080/"
        },
        "id": "UFMzPB1Z7LYe",
        "outputId": "d065f2b0-f3b9-446f-e08a-f9a6d2be3410"
      },
      "execution_count": 17,
      "outputs": [
        {
          "output_type": "stream",
          "name": "stdout",
          "text": [
            "120\n",
            "3628800\n",
            "2432902008176640000\n",
            "30414093201713378043612608166064768844377641568960512000000000000\n"
          ]
        }
      ]
    },
    {
      "cell_type": "code",
      "source": [
        "# Special factorial(n)\n",
        "\n",
        "def special_factorial(n):\n",
        "  product = 1\n",
        "  my_list = list(range(1,n+1))\n",
        "  for num in my_list:\n",
        "      if num == 4:\n",
        "        my_list.remove(4)\n",
        "      elif num == 13:\n",
        "        my_list.remove(13)\n",
        "      elif num == 22:\n",
        "        my_list.remove(22)\n",
        "  for num in my_list:\n",
        "    product = product * num\n",
        "  return product\n",
        "\n",
        "print(special_factorial(5))\n",
        "print(special_factorial(10))\n",
        "print(special_factorial(20))\n",
        "print(special_factorial(50))"
      ],
      "metadata": {
        "colab": {
          "base_uri": "https://localhost:8080/"
        },
        "id": "yvWy-E4qJQup",
        "outputId": "159eba43-0e62-47c2-a24e-b4589fb2e000"
      },
      "execution_count": 26,
      "outputs": [
        {
          "output_type": "stream",
          "name": "stdout",
          "text": [
            "30\n",
            "907200\n",
            "46786577080320000\n",
            "26585745805693512275885146998308364374455980392448000000000000\n"
          ]
        }
      ]
    }
  ]
}