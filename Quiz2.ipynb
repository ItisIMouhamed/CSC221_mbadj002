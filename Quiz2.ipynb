{
  "nbformat": 4,
  "nbformat_minor": 0,
  "metadata": {
    "colab": {
      "provenance": [],
      "authorship_tag": "ABX9TyPCsw3YzRDmTUMlWyx27ep1",
      "include_colab_link": true
    },
    "kernelspec": {
      "name": "python3",
      "display_name": "Python 3"
    },
    "language_info": {
      "name": "python"
    }
  },
  "cells": [
    {
      "cell_type": "markdown",
      "metadata": {
        "id": "view-in-github",
        "colab_type": "text"
      },
      "source": [
        "<a href=\"https://colab.research.google.com/github/ItisIMouhamed/CSC221_mbadj002/blob/main/Quiz2.ipynb\" target=\"_parent\"><img src=\"https://colab.research.google.com/assets/colab-badge.svg\" alt=\"Open In Colab\"/></a>"
      ]
    },
    {
      "cell_type": "markdown",
      "source": [
        "# Example of code using \"and\"\n"
      ],
      "metadata": {
        "id": "3xAIS_BUz-J6"
      }
    },
    {
      "cell_type": "code",
      "source": [
        "x = 5\n",
        "print(x > 3 and x < 10)\n"
      ],
      "metadata": {
        "colab": {
          "base_uri": "https://localhost:8080/"
        },
        "id": "NfVjkdpK0FO2",
        "outputId": "9d068e72-6c90-41ef-eb4f-92c4c66617a6"
      },
      "execution_count": 1,
      "outputs": [
        {
          "output_type": "stream",
          "name": "stdout",
          "text": [
            "True\n"
          ]
        }
      ]
    },
    {
      "cell_type": "markdown",
      "source": [
        "# Example of code using \"None\""
      ],
      "metadata": {
        "id": "Tbrvs5SGeNmT"
      }
    },
    {
      "cell_type": "code",
      "source": [
        "x = None\n",
        "print(x)"
      ],
      "metadata": {
        "colab": {
          "base_uri": "https://localhost:8080/"
        },
        "id": "w6fgcbfbeWo0",
        "outputId": "f75b523f-d453-4d15-9294-81280c8c96dd"
      },
      "execution_count": 2,
      "outputs": [
        {
          "output_type": "stream",
          "name": "stdout",
          "text": [
            "None\n"
          ]
        }
      ]
    },
    {
      "cell_type": "markdown",
      "source": [
        "# Example of code using \"True\""
      ],
      "metadata": {
        "id": "QhYo-1ruggbk"
      }
    },
    {
      "cell_type": "code",
      "source": [
        "print(10 > 9)"
      ],
      "metadata": {
        "colab": {
          "base_uri": "https://localhost:8080/"
        },
        "id": "p01P6KZDhUNM",
        "outputId": "c599acaa-3a34-4aec-a368-36c6e3361d6c"
      },
      "execution_count": 3,
      "outputs": [
        {
          "output_type": "stream",
          "name": "stdout",
          "text": [
            "True\n"
          ]
        }
      ]
    },
    {
      "cell_type": "markdown",
      "source": [
        "# Example of code using \"False\""
      ],
      "metadata": {
        "id": "OsvPxeiXhfoY"
      }
    },
    {
      "cell_type": "code",
      "source": [
        "print(10==9)"
      ],
      "metadata": {
        "colab": {
          "base_uri": "https://localhost:8080/"
        },
        "id": "HBYZXRXChqaP",
        "outputId": "4bd8b238-4ad6-44d9-901b-1dd05d4a4fee"
      },
      "execution_count": 4,
      "outputs": [
        {
          "output_type": "stream",
          "name": "stdout",
          "text": [
            "False\n"
          ]
        }
      ]
    },
    {
      "cell_type": "markdown",
      "source": [
        "# Example of code using \"as\""
      ],
      "metadata": {
        "id": "UiWob2umh2NQ"
      }
    },
    {
      "cell_type": "code",
      "source": [
        "import math as m\n",
        "print(m.pi)"
      ],
      "metadata": {
        "colab": {
          "base_uri": "https://localhost:8080/"
        },
        "id": "7v_7oUXdh62t",
        "outputId": "a7f641f1-82a0-49c5-b808-be620797f98c"
      },
      "execution_count": 5,
      "outputs": [
        {
          "output_type": "stream",
          "name": "stdout",
          "text": [
            "3.141592653589793\n"
          ]
        }
      ]
    },
    {
      "cell_type": "markdown",
      "source": [
        "# Example of code using \"assert\""
      ],
      "metadata": {
        "id": "w3rqZHoRj-kG"
      }
    },
    {
      "cell_type": "code",
      "source": [
        "x = \"hello\"\n",
        "assert x == \"hello\""
      ],
      "metadata": {
        "id": "DDoohXTjkEoQ"
      },
      "execution_count": 6,
      "outputs": []
    },
    {
      "cell_type": "markdown",
      "source": [
        "# Example of code using \"async\""
      ],
      "metadata": {
        "id": "feuNH-EZ2Toa"
      }
    },
    {
      "cell_type": "code",
      "source": [
        "import asyncio\n",
        "\n",
        "async def async_foo():\n",
        "    print(\"async_foo started\")\n",
        "    await asyncio.sleep(5)\n",
        "    print(\"async_foo done\")\n",
        "\n",
        "async def main():\n",
        "    await async_foo()\n",
        "\n",
        "await(main())\n"
      ],
      "metadata": {
        "colab": {
          "base_uri": "https://localhost:8080/"
        },
        "id": "e9lQ0M2p2abt",
        "outputId": "e20ca0a6-3097-40e6-ff57-7c6718511d21"
      },
      "execution_count": 2,
      "outputs": [
        {
          "output_type": "stream",
          "name": "stdout",
          "text": [
            "async_foo started\n",
            "async_foo done\n"
          ]
        }
      ]
    },
    {
      "cell_type": "markdown",
      "source": [
        "# Example of code using \"break\""
      ],
      "metadata": {
        "id": "Omc4Cnlz5HIE"
      }
    },
    {
      "cell_type": "code",
      "source": [
        "for i in range(10):\n",
        "    if i == 5:\n",
        "        break\n",
        "    print(i)\n"
      ],
      "metadata": {
        "colab": {
          "base_uri": "https://localhost:8080/"
        },
        "id": "OlFlvuhN5MpK",
        "outputId": "62d9918b-1edd-4d62-8351-d552e29f72be"
      },
      "execution_count": 15,
      "outputs": [
        {
          "output_type": "stream",
          "name": "stdout",
          "text": [
            "0\n",
            "1\n",
            "2\n",
            "3\n",
            "4\n"
          ]
        }
      ]
    },
    {
      "cell_type": "markdown",
      "source": [
        "# Example of code using \"await\""
      ],
      "metadata": {
        "id": "gGcRxA8067x3"
      }
    },
    {
      "cell_type": "code",
      "source": [
        "import asyncio\n",
        "\n",
        "async def main():\n",
        "    print('Hello ...')\n",
        "    await asyncio.sleep(1)\n",
        "    print('... World!')\n",
        "\n",
        "await(main())\n"
      ],
      "metadata": {
        "colab": {
          "base_uri": "https://localhost:8080/"
        },
        "id": "3ciKrZOi7QxG",
        "outputId": "09960b20-f558-422d-e2c2-68f80102c0c5"
      },
      "execution_count": 3,
      "outputs": [
        {
          "output_type": "stream",
          "name": "stdout",
          "text": [
            "Hello ...\n",
            "... World!\n"
          ]
        }
      ]
    },
    {
      "cell_type": "markdown",
      "source": [
        "# Example of code using \"continue\""
      ],
      "metadata": {
        "id": "s2BWeG3o_Oi-"
      }
    },
    {
      "cell_type": "code",
      "source": [
        "for i in range(10):\n",
        "    if i == 5:\n",
        "        continue\n",
        "    print(i)\n"
      ],
      "metadata": {
        "colab": {
          "base_uri": "https://localhost:8080/"
        },
        "id": "BQhEc0-D_TKv",
        "outputId": "63a48f96-ddf3-4dff-d74d-ddc21c0ddc33"
      },
      "execution_count": 18,
      "outputs": [
        {
          "output_type": "stream",
          "name": "stdout",
          "text": [
            "0\n",
            "1\n",
            "2\n",
            "3\n",
            "4\n",
            "6\n",
            "7\n",
            "8\n",
            "9\n"
          ]
        }
      ]
    },
    {
      "cell_type": "markdown",
      "source": [
        "# Example of code using \"class\""
      ],
      "metadata": {
        "id": "tfu3V2z1_itA"
      }
    },
    {
      "cell_type": "code",
      "source": [
        "class Dog:\n",
        "  def __init__(self, name, age):\n",
        "    self.name = name\n",
        "    self.age = age\n",
        "\n",
        "  def sit(self):\n",
        "    print(f\"{self.name} is now sitting.\")\n",
        "\n",
        "  def roll_over(self):\n",
        "    print(f\"{self.name} rolled over!\")\n",
        "\n"
      ],
      "metadata": {
        "id": "lGg6Liga_mI1"
      },
      "execution_count": 19,
      "outputs": []
    },
    {
      "cell_type": "code",
      "source": [
        "my_dog = Dog(\"Mo\", 4)\n",
        "print(f\"My dogs name is {my_dog.name}.\")\n",
        "print(f\"My dog is {my_dog.age} years old.\")"
      ],
      "metadata": {
        "colab": {
          "base_uri": "https://localhost:8080/"
        },
        "id": "eNO8XQ2PCMYE",
        "outputId": "8286fc0c-3629-402e-e76a-2c8f19f6eb29"
      },
      "execution_count": 20,
      "outputs": [
        {
          "output_type": "stream",
          "name": "stdout",
          "text": [
            "My dogs name is Mo.\n",
            "My dog is 4 years old.\n"
          ]
        }
      ]
    },
    {
      "cell_type": "markdown",
      "source": [
        "# Example of code using \"def\""
      ],
      "metadata": {
        "id": "4aaqRRFaCZgW"
      }
    },
    {
      "cell_type": "code",
      "source": [
        "def favorite_food(name):\n",
        "  print(f\"My favorite food is {name}\")\n"
      ],
      "metadata": {
        "id": "zjy9HCPtCf8z"
      },
      "execution_count": 22,
      "outputs": []
    },
    {
      "cell_type": "code",
      "source": [
        "favorite_food(\"Fried Chicken\")"
      ],
      "metadata": {
        "colab": {
          "base_uri": "https://localhost:8080/"
        },
        "id": "ickle8LDD9gL",
        "outputId": "7aed4b2b-dc21-4219-bce2-638181efdb21"
      },
      "execution_count": 23,
      "outputs": [
        {
          "output_type": "stream",
          "name": "stdout",
          "text": [
            "My favorite food is Fried Chicken\n"
          ]
        }
      ]
    },
    {
      "cell_type": "markdown",
      "source": [
        "# Example of code using \"elif\""
      ],
      "metadata": {
        "id": "4MPYFUBNE98U"
      }
    },
    {
      "cell_type": "code",
      "source": [
        "x = 20\n",
        "if x < 10:\n",
        "    print(\"Less than 10\")\n",
        "elif x < 30:\n",
        "    print(\"Between 10 and 30\")\n",
        "else:\n",
        "    print(\"30 or more\")\n"
      ],
      "metadata": {
        "colab": {
          "base_uri": "https://localhost:8080/"
        },
        "id": "VoZiyl7dFDFf",
        "outputId": "5a2a9f2c-c209-418e-fefb-8aa26c68440d"
      },
      "execution_count": 24,
      "outputs": [
        {
          "output_type": "stream",
          "name": "stdout",
          "text": [
            "Between 10 and 30\n"
          ]
        }
      ]
    },
    {
      "cell_type": "markdown",
      "source": [
        "# Example of code using \"del\""
      ],
      "metadata": {
        "id": "u4z6Xy2HHBac"
      }
    },
    {
      "cell_type": "code",
      "source": [
        "mylist = ['a', 'b', 'c', 'd']\n",
        "del mylist[0]\n",
        "print(mylist)"
      ],
      "metadata": {
        "colab": {
          "base_uri": "https://localhost:8080/"
        },
        "id": "uSHumYsUHJ4C",
        "outputId": "b6cf549e-0deb-4582-f538-bcb092426cc9"
      },
      "execution_count": 25,
      "outputs": [
        {
          "output_type": "stream",
          "name": "stdout",
          "text": [
            "['b', 'c', 'd']\n"
          ]
        }
      ]
    },
    {
      "cell_type": "markdown",
      "source": [
        "# Example of code using \"except\""
      ],
      "metadata": {
        "id": "7wG6B-oqaCGc"
      }
    },
    {
      "cell_type": "code",
      "source": [
        "try:\n",
        "    x = 1 / 0\n",
        "except ZeroDivisionError:\n",
        "    print(\"You can't divide by zero!\")\n"
      ],
      "metadata": {
        "colab": {
          "base_uri": "https://localhost:8080/"
        },
        "id": "rOtAOfgYaTC3",
        "outputId": "015cfa0f-402f-4129-c9b7-e67c29d42cb6"
      },
      "execution_count": 1,
      "outputs": [
        {
          "output_type": "stream",
          "name": "stdout",
          "text": [
            "You can't divide by zero!\n"
          ]
        }
      ]
    },
    {
      "cell_type": "markdown",
      "source": [
        "# Example of code using \"else\""
      ],
      "metadata": {
        "id": "11y_L2ZIpswc"
      }
    },
    {
      "cell_type": "code",
      "source": [
        "x = 50\n",
        "if x < 10:\n",
        "    print(\"Less than 10\")\n",
        "else:\n",
        "    print(\"10 or more\")"
      ],
      "metadata": {
        "colab": {
          "base_uri": "https://localhost:8080/"
        },
        "id": "9x5ifD7jpxzS",
        "outputId": "0b66f932-23c0-43ae-b023-ab79aa1d585a"
      },
      "execution_count": 1,
      "outputs": [
        {
          "output_type": "stream",
          "name": "stdout",
          "text": [
            "10 or more\n"
          ]
        }
      ]
    },
    {
      "cell_type": "markdown",
      "source": [
        "# Example of code using \"for\""
      ],
      "metadata": {
        "id": "-sHFO9CIBb8_"
      }
    },
    {
      "cell_type": "code",
      "source": [
        "fruits = [\"apple\", \"banana\", \"cherry\"]\n",
        "for fruit in fruits:\n",
        "    print(fruit)\n"
      ],
      "metadata": {
        "colab": {
          "base_uri": "https://localhost:8080/"
        },
        "id": "IXKirXQ1Bkli",
        "outputId": "ffaf1361-8445-429f-8dd2-c4dcacd3c88d"
      },
      "execution_count": 4,
      "outputs": [
        {
          "output_type": "stream",
          "name": "stdout",
          "text": [
            "apple\n",
            "banana\n",
            "cherry\n"
          ]
        }
      ]
    },
    {
      "cell_type": "markdown",
      "source": [
        "# Example of code using \"finally\""
      ],
      "metadata": {
        "id": "gqoV6AC7CGMu"
      }
    },
    {
      "cell_type": "code",
      "source": [
        "try:\n",
        "    x = int(input(\"Enter a number: \"))\n",
        "    result = 10 / x\n",
        "    print(\"Result:\", result)\n",
        "except ValueError:\n",
        "    print(\"Please enter a valid number.\")\n",
        "except ZeroDivisionError:\n",
        "    print(\"Error: Division by zero.\")\n",
        "finally:\n",
        "    print(\"This block always executes, regardless of exceptions.\")\n"
      ],
      "metadata": {
        "colab": {
          "base_uri": "https://localhost:8080/"
        },
        "id": "XneRNB61CN54",
        "outputId": "a4191545-ca35-4533-fe03-2b4b40ce764c"
      },
      "execution_count": 10,
      "outputs": [
        {
          "output_type": "stream",
          "name": "stdout",
          "text": [
            "Enter a number: 20\n",
            "Result: 0.5\n",
            "This block always executes, regardless of exceptions.\n"
          ]
        }
      ]
    },
    {
      "cell_type": "markdown",
      "source": [
        "# Example of code using \"from\""
      ],
      "metadata": {
        "id": "GLeI3iQLDxO6"
      }
    },
    {
      "cell_type": "code",
      "source": [
        "from math import pi\n",
        "print(pi)"
      ],
      "metadata": {
        "colab": {
          "base_uri": "https://localhost:8080/"
        },
        "id": "rW4xf_gCEBY9",
        "outputId": "fce1aa8e-3cc5-4054-8874-fabb1d33e7b1"
      },
      "execution_count": 6,
      "outputs": [
        {
          "output_type": "stream",
          "name": "stdout",
          "text": [
            "3.141592653589793\n"
          ]
        }
      ]
    },
    {
      "cell_type": "markdown",
      "source": [
        "# Example of code using \"if\""
      ],
      "metadata": {
        "id": "boTQEiWhEUx5"
      }
    },
    {
      "cell_type": "code",
      "source": [
        "x = 10\n",
        "if x > 0:\n",
        "    print(\"x is positive\")"
      ],
      "metadata": {
        "colab": {
          "base_uri": "https://localhost:8080/"
        },
        "id": "sZc-_d-XEb5e",
        "outputId": "aaeb0a32-98ff-40bb-e5e2-f6e6a7f175ed"
      },
      "execution_count": 7,
      "outputs": [
        {
          "output_type": "stream",
          "name": "stdout",
          "text": [
            "x is positive\n"
          ]
        }
      ]
    },
    {
      "cell_type": "markdown",
      "source": [
        "# Example of code using \"global\""
      ],
      "metadata": {
        "id": "eRy8dAXNE_Qw"
      }
    },
    {
      "cell_type": "code",
      "source": [
        "x = 10\n",
        "\n",
        "def change_global():\n",
        "    global x\n",
        "    x = 20\n",
        "\n",
        "print(\"Before change_global call, x is:\", x)\n",
        "change_global()\n",
        "print(\"After change_global call, x is:\", x)\n"
      ],
      "metadata": {
        "colab": {
          "base_uri": "https://localhost:8080/"
        },
        "id": "w2sjTh2IFD60",
        "outputId": "7ae75094-d965-4128-a71c-f44d1cc12ab5"
      },
      "execution_count": 8,
      "outputs": [
        {
          "output_type": "stream",
          "name": "stdout",
          "text": [
            "Before change_global call, x is: 10\n",
            "After change_global call, x is: 20\n"
          ]
        }
      ]
    },
    {
      "cell_type": "markdown",
      "source": [
        "# Example of code using \"in\""
      ],
      "metadata": {
        "id": "FuDAng-ZFsCw"
      }
    },
    {
      "cell_type": "code",
      "source": [
        "my_list = [1, 2, 3, 4, 5]\n",
        "if 3 in my_list:\n",
        "    print(\"3 is in the list.\")\n",
        "else:\n",
        "    print(\"3 is not in the list.\")\n"
      ],
      "metadata": {
        "colab": {
          "base_uri": "https://localhost:8080/"
        },
        "id": "hS21DCHAGaGQ",
        "outputId": "c4223c8f-5057-4409-e3fe-6e707ee0a594"
      },
      "execution_count": 12,
      "outputs": [
        {
          "output_type": "stream",
          "name": "stdout",
          "text": [
            "3 is in the list.\n"
          ]
        }
      ]
    },
    {
      "cell_type": "markdown",
      "source": [
        "# Example of code using \"import\""
      ],
      "metadata": {
        "id": "N91yW6AMF46q"
      }
    },
    {
      "cell_type": "code",
      "source": [
        "import random\n",
        "random_number = random.randint(1, 100)\n",
        "\n",
        "print(\"Random number between 1 and 100:\", random_number)\n"
      ],
      "metadata": {
        "colab": {
          "base_uri": "https://localhost:8080/"
        },
        "id": "vTK9kRRDJLq6",
        "outputId": "685770e7-d693-45ff-cc16-2030c9ee5bbc"
      },
      "execution_count": 13,
      "outputs": [
        {
          "output_type": "stream",
          "name": "stdout",
          "text": [
            "Random number between 1 and 100: 28\n"
          ]
        }
      ]
    },
    {
      "cell_type": "markdown",
      "source": [
        "# Example of code using \"lambda\""
      ],
      "metadata": {
        "id": "5Tmr4JXoGGqr"
      }
    },
    {
      "cell_type": "code",
      "source": [
        "add = lambda x, y: x + y\n",
        "\n",
        "result = add(3, 5)\n",
        "\n",
        "print(\"Result of adding:\", result)\n"
      ],
      "metadata": {
        "colab": {
          "base_uri": "https://localhost:8080/"
        },
        "id": "FXkKTbwNJ6qd",
        "outputId": "4a203359-577b-4f30-a693-a7e940910e2b"
      },
      "execution_count": 15,
      "outputs": [
        {
          "output_type": "stream",
          "name": "stdout",
          "text": [
            "Result of adding: 8\n"
          ]
        }
      ]
    },
    {
      "cell_type": "markdown",
      "source": [
        "# Example of code using \"is\""
      ],
      "metadata": {
        "id": "FPb3rZdwGTRs"
      }
    },
    {
      "cell_type": "code",
      "source": [
        "list1 = [1, 2, 3]\n",
        "list2 = [1, 2, 3]\n",
        "\n",
        "if list1 is list2:\n",
        "    print(\"list1 and list2 refer to the same object.\")\n",
        "else:\n",
        "    print(\"list1 and list2 do not refer to the same object.\")\n"
      ],
      "metadata": {
        "colab": {
          "base_uri": "https://localhost:8080/"
        },
        "id": "VTMC6Wx3KTzP",
        "outputId": "dcb70641-e930-4878-c97d-e4da13c95def"
      },
      "execution_count": 16,
      "outputs": [
        {
          "output_type": "stream",
          "name": "stdout",
          "text": [
            "list1 and list2 do not refer to the same object.\n"
          ]
        }
      ]
    },
    {
      "cell_type": "markdown",
      "source": [
        "# Example of code using \"nonlocal\""
      ],
      "metadata": {
        "id": "1a7_FRBIKwe9"
      }
    },
    {
      "cell_type": "code",
      "source": [
        "def outer_function():\n",
        "    x = 10\n",
        "\n",
        "    def inner_function():\n",
        "        nonlocal x\n",
        "        x += 5\n",
        "        print(\"Inner function: x =\", x)\n",
        "\n",
        "    inner_function()\n",
        "    print(\"Outer function: x =\", x)\n",
        "\n",
        "outer_function()\n"
      ],
      "metadata": {
        "colab": {
          "base_uri": "https://localhost:8080/"
        },
        "id": "U2p8WKmxM-ZZ",
        "outputId": "5ffd47aa-23d1-4405-afce-798ec5a561e4"
      },
      "execution_count": 17,
      "outputs": [
        {
          "output_type": "stream",
          "name": "stdout",
          "text": [
            "Inner function: x = 15\n",
            "Outer function: x = 15\n"
          ]
        }
      ]
    },
    {
      "cell_type": "markdown",
      "source": [
        "# Example of code using \"not\""
      ],
      "metadata": {
        "id": "zAuP82f6K0Dq"
      }
    },
    {
      "cell_type": "code",
      "source": [
        "x = True\n",
        "\n",
        "result = not x\n",
        "\n",
        "print(\"Result:\", result)\n"
      ],
      "metadata": {
        "colab": {
          "base_uri": "https://localhost:8080/"
        },
        "id": "T93FBWV7NAuJ",
        "outputId": "9af2d465-2f37-45b7-87b2-892f0e835139"
      },
      "execution_count": 18,
      "outputs": [
        {
          "output_type": "stream",
          "name": "stdout",
          "text": [
            "Result: False\n"
          ]
        }
      ]
    },
    {
      "cell_type": "markdown",
      "source": [
        "# Example of code using \"or\""
      ],
      "metadata": {
        "id": "-PK0eG_8Np49"
      }
    },
    {
      "cell_type": "code",
      "source": [
        "x = 5\n",
        "\n",
        "if x < 0 or x > 10:\n",
        "    print(\"x is less than 0 or greater than 10.\")\n",
        "else:\n",
        "    print(\"x is between 0 and 10 (inclusive).\")\n"
      ],
      "metadata": {
        "colab": {
          "base_uri": "https://localhost:8080/"
        },
        "id": "Jeg7IsgtNtMg",
        "outputId": "9da8a38f-483c-498c-c669-4a8ee600847c"
      },
      "execution_count": 19,
      "outputs": [
        {
          "output_type": "stream",
          "name": "stdout",
          "text": [
            "x is between 0 and 10 (inclusive).\n"
          ]
        }
      ]
    },
    {
      "cell_type": "markdown",
      "source": [
        "# Example of code using \"raise\""
      ],
      "metadata": {
        "id": "OrxhDIWyOLwC"
      }
    },
    {
      "cell_type": "code",
      "source": [
        "def validate_age(age):\n",
        "    if age < 0:\n",
        "        raise ValueError(\"Age cannot be negative\")\n",
        "    elif age < 18:\n",
        "        raise ValueError(\"Must be 18 or older\")\n",
        "    else:\n",
        "        print(\"Age is valid\")\n",
        "\n",
        "try:\n",
        "    validate_age(25)\n",
        "except ValueError as e:\n",
        "    print(\"Error:\", e)\n"
      ],
      "metadata": {
        "colab": {
          "base_uri": "https://localhost:8080/"
        },
        "id": "_g3V7j3tOWLW",
        "outputId": "069a13c7-e164-4d59-db3b-5e53f7fd972f"
      },
      "execution_count": 20,
      "outputs": [
        {
          "output_type": "stream",
          "name": "stdout",
          "text": [
            "Age is valid\n"
          ]
        }
      ]
    },
    {
      "cell_type": "markdown",
      "source": [
        "# Example of code using \"pass\""
      ],
      "metadata": {
        "id": "uFdwETwjONo-"
      }
    },
    {
      "cell_type": "code",
      "source": [
        "\n",
        "def process_data(data):\n",
        "    if data:\n",
        "        print(\"Data processed successfully\")\n",
        "    else:\n",
        "        pass\n",
        "\n",
        "data = []\n",
        "process_data(data)\n"
      ],
      "metadata": {
        "id": "-Z4PxrgtPi3x"
      },
      "execution_count": 21,
      "outputs": []
    },
    {
      "cell_type": "markdown",
      "source": [
        "# Example of code using \"try\""
      ],
      "metadata": {
        "id": "WWxj3Mb7PDOQ"
      }
    },
    {
      "cell_type": "code",
      "source": [
        "try:\n",
        "    x = 1 / 0\n",
        "except ZeroDivisionError as e:\n",
        "    print(\"Caught an error: \", e)\n"
      ],
      "metadata": {
        "colab": {
          "base_uri": "https://localhost:8080/"
        },
        "id": "nBmwn7CUQb2b",
        "outputId": "bc5a8754-1400-4b24-9292-acc360557493"
      },
      "execution_count": 22,
      "outputs": [
        {
          "output_type": "stream",
          "name": "stdout",
          "text": [
            "Caught an error:  division by zero\n"
          ]
        }
      ]
    },
    {
      "cell_type": "markdown",
      "source": [
        "# Example of code using \"return\""
      ],
      "metadata": {
        "id": "1N_l-yFlPECk"
      }
    },
    {
      "cell_type": "code",
      "source": [
        "def add(x, y):\n",
        "    result = x + y\n",
        "    return result\n",
        "\n",
        "sum_result = add(3, 5)\n",
        "\n",
        "print(\"Sum:\", sum_result)\n"
      ],
      "metadata": {
        "colab": {
          "base_uri": "https://localhost:8080/"
        },
        "id": "Ytn54LqaPhvI",
        "outputId": "e0847836-d019-4f5a-d9ec-512980b4e8fd"
      },
      "execution_count": 1,
      "outputs": [
        {
          "output_type": "stream",
          "name": "stdout",
          "text": [
            "Sum: 8\n"
          ]
        }
      ]
    },
    {
      "cell_type": "markdown",
      "source": [
        "# Example of code using \"while\""
      ],
      "metadata": {
        "id": "LBP3HeFjf-PV"
      }
    },
    {
      "cell_type": "code",
      "source": [
        "num = 0\n",
        "while num < 5:\n",
        "    print(\"Num is: \", num)\n",
        "    num += 1\n"
      ],
      "metadata": {
        "colab": {
          "base_uri": "https://localhost:8080/"
        },
        "id": "RzCuloK1hhFs",
        "outputId": "ccf32589-0fbf-49b2-f5fb-8c956d99146b"
      },
      "execution_count": 1,
      "outputs": [
        {
          "output_type": "stream",
          "name": "stdout",
          "text": [
            "Num is:  0\n",
            "Num is:  1\n",
            "Num is:  2\n",
            "Num is:  3\n",
            "Num is:  4\n"
          ]
        }
      ]
    },
    {
      "cell_type": "markdown",
      "source": [
        "# Example of code using \"with\""
      ],
      "metadata": {
        "id": "TL1tOGb6i-D9"
      }
    },
    {
      "cell_type": "code",
      "source": [
        "import time\n",
        "\n",
        "class Timer:\n",
        "    def __enter__(self):\n",
        "        self.start = time.time()\n",
        "        return self\n",
        "\n",
        "    def __exit__(self, *args):\n",
        "        self.end = time.time()\n",
        "        self.interval = self.end - self.start\n",
        "\n",
        "with Timer() as t:\n",
        "    for i in range(1000000):\n",
        "        pass\n",
        "print('Time taken for loop: ', t.interval, 'seconds')\n",
        "\n"
      ],
      "metadata": {
        "colab": {
          "base_uri": "https://localhost:8080/"
        },
        "id": "-a4rI1z3jCUH",
        "outputId": "1688c5c5-4b60-4182-9ead-1e099ff352d0"
      },
      "execution_count": 5,
      "outputs": [
        {
          "output_type": "stream",
          "name": "stdout",
          "text": [
            "Time taken for loop:  0.051319122314453125 seconds\n"
          ]
        }
      ]
    },
    {
      "cell_type": "markdown",
      "source": [
        "# Example of code using \"yield\""
      ],
      "metadata": {
        "id": "D1u2qM5Ozvsi"
      }
    },
    {
      "cell_type": "code",
      "source": [
        "def count_up_to(n):\n",
        "    count = 1\n",
        "    while count <= n:\n",
        "        yield count\n",
        "        count += 1\n",
        "\n",
        "for number in count_up_to(5):\n",
        "    print(number)\n"
      ],
      "metadata": {
        "colab": {
          "base_uri": "https://localhost:8080/"
        },
        "id": "FNoTYIqN0Eg-",
        "outputId": "3b4727f2-64c2-489b-b02a-bfe94988abee"
      },
      "execution_count": 6,
      "outputs": [
        {
          "output_type": "stream",
          "name": "stdout",
          "text": [
            "1\n",
            "2\n",
            "3\n",
            "4\n",
            "5\n"
          ]
        }
      ]
    }
  ]
}