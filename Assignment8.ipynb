{
  "nbformat": 4,
  "nbformat_minor": 0,
  "metadata": {
    "colab": {
      "provenance": [],
      "authorship_tag": "ABX9TyOSxKvXEaGPkWDn3+/FEYYX",
      "include_colab_link": true
    },
    "kernelspec": {
      "name": "python3",
      "display_name": "Python 3"
    },
    "language_info": {
      "name": "python"
    }
  },
  "cells": [
    {
      "cell_type": "markdown",
      "metadata": {
        "id": "view-in-github",
        "colab_type": "text"
      },
      "source": [
        "<a href=\"https://colab.research.google.com/github/ItisIMouhamed/CSC221_mbadj002/blob/main/Assignment8.ipynb\" target=\"_parent\"><img src=\"https://colab.research.google.com/assets/colab-badge.svg\" alt=\"Open In Colab\"/></a>"
      ]
    },
    {
      "cell_type": "code",
      "execution_count": 2,
      "metadata": {
        "colab": {
          "base_uri": "https://localhost:8080/"
        },
        "id": "Fvslb1W8OrmA",
        "outputId": "fc15294e-a867-4749-d683-45154ca2cf2c"
      },
      "outputs": [
        {
          "output_type": "stream",
          "name": "stdout",
          "text": [
            "Hello\n"
          ]
        }
      ],
      "source": [
        "def greet_user():\n",
        "  print(f\"Hello\")\n",
        "\n",
        "greet_user()"
      ]
    },
    {
      "cell_type": "code",
      "source": [
        "def greet_user(username):\n",
        "  print(f\"Hello, {username.title()}!\")\n",
        "\n",
        "greet_user(\"mo\")"
      ],
      "metadata": {
        "colab": {
          "base_uri": "https://localhost:8080/"
        },
        "id": "GxDyTuRIWcFC",
        "outputId": "44fe18ae-9358-4698-bb6c-e14555ad4415"
      },
      "execution_count": 4,
      "outputs": [
        {
          "output_type": "stream",
          "name": "stdout",
          "text": [
            "Hello, Mo!\n"
          ]
        }
      ]
    },
    {
      "cell_type": "code",
      "source": [
        "def describe_pet(animal_type, pet_name):\n",
        "  print(f\"\\nI have a {animal_type}\")\n",
        "  print(f\"My {animal_type} is named {pet_name}.\")\n",
        "\n",
        "describe_pet('cat', 'Puss')"
      ],
      "metadata": {
        "colab": {
          "base_uri": "https://localhost:8080/"
        },
        "id": "tBk4_3FkZYYq",
        "outputId": "db9b82d5-27fe-4ca3-b506-b9ee04ffd018"
      },
      "execution_count": 10,
      "outputs": [
        {
          "output_type": "stream",
          "name": "stdout",
          "text": [
            "\n",
            "I have a cat\n",
            "My cat is named Puss.\n"
          ]
        }
      ]
    },
    {
      "cell_type": "code",
      "source": [
        "def describe_pet(animal_type, pet_name):\n",
        "  print(f\"\\nI have a {animal_type}\")\n",
        "  print(f\"My {animal_type} is named {pet_name}.\")\n",
        "\n",
        "describe_pet(animal_type= 'cat', pet_name='puss')"
      ],
      "metadata": {
        "colab": {
          "base_uri": "https://localhost:8080/"
        },
        "id": "O79-4Jc3a9Zk",
        "outputId": "343f7a11-3384-48f1-9967-f4e339f5e6cd"
      },
      "execution_count": 11,
      "outputs": [
        {
          "output_type": "stream",
          "name": "stdout",
          "text": [
            "\n",
            "I have a cat\n",
            "My cat is named puss.\n"
          ]
        }
      ]
    },
    {
      "cell_type": "markdown",
      "source": [
        "# TIY 8-2\n",
        "- Favorite book"
      ],
      "metadata": {
        "id": "eWzbHujnXAwI"
      }
    },
    {
      "cell_type": "code",
      "source": [
        "def favorite_book(title):\n",
        "  print(f\"My favorite book series is {title}\")\n",
        "\n",
        "favorite_book(\"Percy Jackson\")\n"
      ],
      "metadata": {
        "colab": {
          "base_uri": "https://localhost:8080/"
        },
        "id": "QnLGUClwXHAL",
        "outputId": "594cc444-b02a-47c9-e062-68f8a7dfd202"
      },
      "execution_count": 8,
      "outputs": [
        {
          "output_type": "stream",
          "name": "stdout",
          "text": [
            "My favorite book series is Percy Jackson\n"
          ]
        }
      ]
    },
    {
      "cell_type": "markdown",
      "source": [
        "# TIY 8-3\n",
        "- Make a T-shirt"
      ],
      "metadata": {
        "id": "ehZDThA5hcqA"
      }
    },
    {
      "cell_type": "code",
      "source": [
        "# Calling function using positional argument\n",
        "\n",
        "def make_shirt(size_shirt, message_shirt):\n",
        "  print(f\"\\nI want my shirt to be a {size_shirt}.\")\n",
        "  print(f\"I want my shirt to say {message_shirt}\")\n",
        "\n",
        "make_shirt(\"XL\", \"Cool Beans!\")"
      ],
      "metadata": {
        "colab": {
          "base_uri": "https://localhost:8080/"
        },
        "id": "MQmyWnfqhsQS",
        "outputId": "e79a4578-ab1a-47f6-babf-cf451dcb324e"
      },
      "execution_count": 16,
      "outputs": [
        {
          "output_type": "stream",
          "name": "stdout",
          "text": [
            "\n",
            "I want my shirt to be a XL.\n",
            "I want my shirt to say Cool Beans!\n"
          ]
        }
      ]
    },
    {
      "cell_type": "code",
      "source": [
        "# Calling function using Keyword argument\n",
        "\n",
        "def make_shirt(size_shirt, message_shirt):\n",
        "  print(f\"\\nI want my shirt to be a {size_shirt}.\")\n",
        "  print(f\"I want my shirt to say {message_shirt}\")\n",
        "\n",
        "make_shirt(size_shirt='XL', message_shirt='Cool Beans!')"
      ],
      "metadata": {
        "colab": {
          "base_uri": "https://localhost:8080/"
        },
        "id": "6osHCp-bijHn",
        "outputId": "784315a3-ee8e-4708-a555-27106b5735fb"
      },
      "execution_count": 17,
      "outputs": [
        {
          "output_type": "stream",
          "name": "stdout",
          "text": [
            "\n",
            "I want my shirt to be a XL.\n",
            "I want my shirt to say Cool Beans!\n"
          ]
        }
      ]
    },
    {
      "cell_type": "markdown",
      "source": [
        "# TIY 8-4\n",
        "- Large Shirts"
      ],
      "metadata": {
        "id": "o5LTEYjejYEC"
      }
    },
    {
      "cell_type": "code",
      "source": [
        "def make_shirt(size_shirt ='large', message_shirt='I love python!'):\n",
        "  print(f\"\\nI want my shirt to be a {size_shirt}.\")\n",
        "  print(f\"I want my shirt to say {message_shirt}\")\n",
        "\n",
        "make_shirt()"
      ],
      "metadata": {
        "colab": {
          "base_uri": "https://localhost:8080/"
        },
        "id": "bS-kv7v0jrXS",
        "outputId": "7c92a0f8-17b0-4db9-e7dc-054d2c614f05"
      },
      "execution_count": 19,
      "outputs": [
        {
          "output_type": "stream",
          "name": "stdout",
          "text": [
            "\n",
            "I want my shirt to be a large.\n",
            "I want my shirt to say I love python!\n"
          ]
        }
      ]
    },
    {
      "cell_type": "markdown",
      "source": [
        "# Part two\n",
        "- Make a function and test it"
      ],
      "metadata": {
        "id": "AE7J0jGAqsfE"
      }
    },
    {
      "cell_type": "code",
      "source": [
        "# Flowchart\n",
        "\n",
        "# Create a function called  func8(a, b, c)\n",
        "# Make the vaule c equal to 42\n",
        "# Make a variable called numbers_sum that is equal to a + b + c\n",
        "# Make another variable called number_product that is equal to a * b * c\n",
        "\n",
        "# Create a list for the sorted numbers (a,b,c)\n",
        "# Return the number sum, product and the sorted list after testing code"
      ],
      "metadata": {
        "id": "VTq6inmfq2KG"
      },
      "execution_count": null,
      "outputs": []
    },
    {
      "cell_type": "code",
      "source": [
        "def func8(a, b, c=42):\n",
        "\n",
        "    numbers_sum = a + b + c\n",
        "    numbers_product = a * b * c\n",
        "\n",
        "    sorted_numbers = sorted([a, b, c])\n",
        "\n",
        "    return numbers_sum, numbers_product, sorted_numbers\n"
      ],
      "metadata": {
        "id": "IFb9Xb7AKPXn"
      },
      "execution_count": 1,
      "outputs": []
    },
    {
      "cell_type": "code",
      "source": [
        "# Test 1\n",
        "sum_result, product_result, sorted_list = func8(2, 6, 8)\n",
        "print(\"Sum:\", sum_result)\n",
        "print(\"Product:\", product_result)\n",
        "print(\"Sorted List:\", sorted_list)\n"
      ],
      "metadata": {
        "colab": {
          "base_uri": "https://localhost:8080/"
        },
        "id": "Hzj3iENZx-iD",
        "outputId": "da6ca9e7-2523-4337-ef4a-b7d6135dc9e3"
      },
      "execution_count": 4,
      "outputs": [
        {
          "output_type": "stream",
          "name": "stdout",
          "text": [
            "Sum: 16\n",
            "Product: 96\n",
            "Sorted List: [2, 6, 8]\n"
          ]
        }
      ]
    },
    {
      "cell_type": "code",
      "source": [
        "# Test 2\n",
        "sum_result, product_result, sorted_list = func8(5, 8,)\n",
        "print(\"Sum:\", sum_result)\n",
        "print(\"Product:\", product_result)\n",
        "print(\"Sorted List:\", sorted_list)\n"
      ],
      "metadata": {
        "colab": {
          "base_uri": "https://localhost:8080/"
        },
        "id": "dQeuK_UWyJQa",
        "outputId": "1c1393d6-7e72-4acf-d9eb-3160ac5fd9b3"
      },
      "execution_count": 3,
      "outputs": [
        {
          "output_type": "stream",
          "name": "stdout",
          "text": [
            "Sum: 55\n",
            "Product: 1680\n",
            "Sorted List: [5, 8, 42]\n"
          ]
        }
      ]
    },
    {
      "cell_type": "code",
      "source": [
        "# Test 3\n",
        "sum_result, product_result, sorted_list = func8(245,369,2)\n",
        "print(\"Sum:\", sum_result)\n",
        "print(\"Product:\", product_result)\n",
        "print(\"Sorted List:\", sorted_list)\n"
      ],
      "metadata": {
        "colab": {
          "base_uri": "https://localhost:8080/"
        },
        "id": "WvRmZC-OyklL",
        "outputId": "7b1e1f37-ed4e-4e4a-f068-9a894e32a9b2"
      },
      "execution_count": 7,
      "outputs": [
        {
          "output_type": "stream",
          "name": "stdout",
          "text": [
            "Sum: 616\n",
            "Product: 180810\n",
            "Sorted List: [2, 245, 369]\n"
          ]
        }
      ]
    },
    {
      "cell_type": "code",
      "source": [
        "# Test 4\n",
        "sum_result, product_result, sorted_list = func8(0, 0,)\n",
        "print(\"Sum:\", sum_result)\n",
        "print(\"Product:\", product_result)\n",
        "print(\"Sorted List:\", sorted_list)\n"
      ],
      "metadata": {
        "colab": {
          "base_uri": "https://localhost:8080/"
        },
        "id": "Ynz83wKGzL3z",
        "outputId": "995bbed1-b716-4f98-9a37-acc9368ceb8d"
      },
      "execution_count": 8,
      "outputs": [
        {
          "output_type": "stream",
          "name": "stdout",
          "text": [
            "Sum: 42\n",
            "Product: 0\n",
            "Sorted List: [0, 0, 42]\n"
          ]
        }
      ]
    }
  ]
}