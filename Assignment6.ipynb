{
  "nbformat": 4,
  "nbformat_minor": 0,
  "metadata": {
    "colab": {
      "provenance": [],
      "authorship_tag": "ABX9TyPilcS2aiScAjo9L5LAAs9A",
      "include_colab_link": true
    },
    "kernelspec": {
      "name": "python3",
      "display_name": "Python 3"
    },
    "language_info": {
      "name": "python"
    }
  },
  "cells": [
    {
      "cell_type": "markdown",
      "metadata": {
        "id": "view-in-github",
        "colab_type": "text"
      },
      "source": [
        "<a href=\"https://colab.research.google.com/github/ItisIMouhamed/CSC221_mbadj002/blob/main/Assignment6.ipynb\" target=\"_parent\"><img src=\"https://colab.research.google.com/assets/colab-badge.svg\" alt=\"Open In Colab\"/></a>"
      ]
    },
    {
      "cell_type": "code",
      "execution_count": null,
      "metadata": {
        "colab": {
          "base_uri": "https://localhost:8080/"
        },
        "id": "EYY2haiPBmYf",
        "outputId": "4dcfd431-cfd8-4cca-ca69-f213f38eb173"
      },
      "outputs": [
        {
          "output_type": "stream",
          "name": "stdout",
          "text": [
            "Is color == 'blue'? I predict true.\n",
            "True\n",
            "\n",
            "Is color == 'blue'? I predict false.\n",
            "False\n",
            "\n",
            "Is phone == 'iphone'? I predict true.\n",
            "True\n",
            "\n",
            "Is phone == 'iphone'? I predict false.\n",
            "False\n",
            "\n",
            "Is anime == 'One Piece'? I predict true.\n",
            "True\n",
            "\n",
            "Is anime == 'One Piece'? I predict false.\n",
            "False\n",
            "\n",
            "Is drink == 'water'? I predict true\n",
            "True\n",
            "\n",
            "Is drink == 'water'? I predict false\n",
            "False\n",
            "\n",
            "Is show == 'Snowfall'? I predict true\n",
            "False\n",
            "\n",
            "Is show == 'Snowfall'? I predict false\n",
            "False\n"
          ]
        }
      ],
      "source": [
        "# TIY 5-1\n",
        "\n",
        "#First test\n",
        "color = \"blue\"\n",
        "print(f\"Is color == 'blue'? I predict true.\")\n",
        "print(color == 'blue')\n",
        "\n",
        "\n",
        "print(f\"\\nIs color == 'blue'? I predict false.\")\n",
        "print(color == 'red')\n",
        "\n",
        "#Second test\n",
        "phone = \"iphone\"\n",
        "print(f\"\\nIs phone == 'iphone'? I predict true.\")\n",
        "print(phone == 'iphone')\n",
        "\n",
        "\n",
        "print(f\"\\nIs phone == 'iphone'? I predict false.\")\n",
        "print(phone == 'android')\n",
        "\n",
        "#Third test\n",
        "anime = \"One Piece\"\n",
        "print(f\"\\nIs anime == 'One Piece'? I predict true.\")\n",
        "print(anime == 'One Piece')\n",
        "\n",
        "\n",
        "print(f\"\\nIs anime == 'One Piece'? I predict false.\")\n",
        "print(anime == 'bleach')\n",
        "\n",
        "#Fourth test\n",
        "drink = \"water\"\n",
        "print(f\"\\nIs drink == 'water'? I predict true\")\n",
        "print(drink == 'water')\n",
        "\n",
        "\n",
        "print(f\"\\nIs drink == 'water'? I predict false\")\n",
        "print(drink == 'sprite')\n",
        "\n",
        "#Fifth test\n",
        "show = \"Snowfall\"\n",
        "print(f\"\\nIs show == 'Snowfall'? I predict true\")\n",
        "print(drink == 'Snowfall')\n",
        "\n",
        "\n",
        "print(f\"\\nIs show == 'Snowfall'? I predict false\")\n",
        "print(drink == 'Breaking Bad')"
      ]
    },
    {
      "cell_type": "code",
      "source": [
        "# TIY 5-2\n",
        "\n",
        "age_0 = 18\n",
        "age_1 = 19\n",
        "age_0 >= 10 or age_1 <= 20\n",
        "age_0 >= 15 and age_1 >= 15\n"
      ],
      "metadata": {
        "colab": {
          "base_uri": "https://localhost:8080/"
        },
        "id": "puRDmuJuYnNc",
        "outputId": "b47f8cf3-0857-4190-b102-ba3e585017d1"
      },
      "execution_count": 5,
      "outputs": [
        {
          "output_type": "execute_result",
          "data": {
            "text/plain": [
              "True"
            ]
          },
          "metadata": {},
          "execution_count": 5
        }
      ]
    },
    {
      "cell_type": "code",
      "source": [
        "# 5-2\n",
        "answer = 20\n",
        "if answer != 100:\n",
        "  print(\"This is wrong buckaroo! Try again.\")"
      ],
      "metadata": {
        "colab": {
          "base_uri": "https://localhost:8080/"
        },
        "id": "XtB0jmrtFBcF",
        "outputId": "c0619452-1184-4c13-d21f-0bbd0a7d4cb3"
      },
      "execution_count": 1,
      "outputs": [
        {
          "output_type": "stream",
          "name": "stdout",
          "text": [
            "This is wrong buckaroo! Try again.\n"
          ]
        }
      ]
    },
    {
      "cell_type": "code",
      "source": [
        "# 5-2\n",
        "car = 'Honda'\n",
        "car.lower() == 'honda'"
      ],
      "metadata": {
        "colab": {
          "base_uri": "https://localhost:8080/"
        },
        "id": "PZ5jVCm0NWM9",
        "outputId": "9ff7f27b-442d-4a9a-e98b-b740e9862296"
      },
      "execution_count": 1,
      "outputs": [
        {
          "output_type": "execute_result",
          "data": {
            "text/plain": [
              "True"
            ]
          },
          "metadata": {},
          "execution_count": 1
        }
      ]
    },
    {
      "cell_type": "code",
      "source": [
        "# 5-2\n",
        "computer = \"Lenovo\"\n",
        "print(f\"Is computer == 'Lenovo'? I predict true.\")\n",
        "print(computer == 'Lenovo')"
      ],
      "metadata": {
        "colab": {
          "base_uri": "https://localhost:8080/"
        },
        "id": "9O7ZDuNGNme9",
        "outputId": "3b8e216c-de1e-4660-a924-5881a1329797"
      },
      "execution_count": 3,
      "outputs": [
        {
          "output_type": "stream",
          "name": "stdout",
          "text": [
            "Is computer == 'Lenovo'? I predict true.\n",
            "True\n"
          ]
        }
      ]
    },
    {
      "cell_type": "code",
      "source": [
        "# 5-2\n",
        "top_5_list = ['Jordan', 'Wilt', 'Lebron', 'Kobe', 'Shaq']\n",
        "'Curry' in top_5_list"
      ],
      "metadata": {
        "colab": {
          "base_uri": "https://localhost:8080/"
        },
        "id": "9_Gs2hiAGEET",
        "outputId": "9dcffbe5-f210-4eb9-c343-42d16c1ae703"
      },
      "execution_count": 3,
      "outputs": [
        {
          "output_type": "execute_result",
          "data": {
            "text/plain": [
              "False"
            ]
          },
          "metadata": {},
          "execution_count": 3
        }
      ]
    },
    {
      "cell_type": "code",
      "source": [
        "# 5-2\n",
        "top_5_list = ['Jordan', 'Wilt', 'Lebron', 'Kobe', 'Shaq']\n",
        "'Jordan' in top_5_list"
      ],
      "metadata": {
        "colab": {
          "base_uri": "https://localhost:8080/"
        },
        "id": "BbIlCo9GG1OO",
        "outputId": "132dca83-2b08-4875-ec9f-51691d31638a"
      },
      "execution_count": 4,
      "outputs": [
        {
          "output_type": "execute_result",
          "data": {
            "text/plain": [
              "True"
            ]
          },
          "metadata": {},
          "execution_count": 4
        }
      ]
    },
    {
      "cell_type": "code",
      "source": [
        "# TIY 5-3\n",
        "\n",
        "alien_color = 'red'\n",
        "if alien_color == 'green':\n",
        "  print(f\"Congrats! You won 5 points.\")"
      ],
      "metadata": {
        "id": "6qroexD9HKfO"
      },
      "execution_count": 1,
      "outputs": []
    },
    {
      "cell_type": "code",
      "source": [
        "# TIY 5-3\n",
        "\n",
        "alien_color = 'green'\n",
        "if alien_color == 'green':\n",
        "  print(f\"Congrats! You won 5 points.\")"
      ],
      "metadata": {
        "colab": {
          "base_uri": "https://localhost:8080/"
        },
        "id": "bOMNT8Aa8_3o",
        "outputId": "72c8795c-82c7-40e1-b118-d676791f2622"
      },
      "execution_count": 2,
      "outputs": [
        {
          "output_type": "stream",
          "name": "stdout",
          "text": [
            "Congrats! You won 5 points.\n"
          ]
        }
      ]
    },
    {
      "cell_type": "code",
      "source": [
        "# TIY 5-6\n",
        "\n",
        "age = 19\n",
        "\n",
        "if age <= 2:\n",
        "  print(f\"This person is a baby.\")\n",
        "elif age >= 2 and age < 4:\n",
        "  print(f\"This person is a toddler.\")\n",
        "elif age >= 4 and age < 13:\n",
        "  print(f\"This person is a kid.\")\n",
        "elif age >= 13 and age < 20:\n",
        "  print(f\"This person is a teenager.\")\n",
        "elif age >= 20 and age < 65:\n",
        "  print(f\"This person is an adult.\")\n",
        "else:\n",
        "  print(f\"This person is an elder.\")\n"
      ],
      "metadata": {
        "colab": {
          "base_uri": "https://localhost:8080/"
        },
        "id": "amTDFsIn9xGa",
        "outputId": "dad8fc90-65d6-4c61-c8f1-a6e1978c70a4"
      },
      "execution_count": 1,
      "outputs": [
        {
          "output_type": "stream",
          "name": "stdout",
          "text": [
            "This person is a teenager.\n"
          ]
        }
      ]
    },
    {
      "cell_type": "code",
      "source": [
        "# TIY 5-13 (My own Unique Problem)\n",
        "\n",
        "# - My basketball team has a game coming up, that we need to win.\n",
        "# - There are 12 members on the team.\n",
        "# - We plan on practicing on the weekend to be ready for the game.\n",
        "# - If all memebers show up I am confidint that we will win.\n",
        "# - If at least 10 members show up then our chances of winning would be good\n",
        "# - If at least 8 members show up then our chances of winning would be ok\n",
        "# - If at least 5 members show up our chances of winning would be low\n",
        "# - If less than 5 show up we will definitly lose the game\n"
      ],
      "metadata": {
        "id": "8gQH2o8iSK3p"
      },
      "execution_count": null,
      "outputs": []
    },
    {
      "cell_type": "code",
      "source": [
        "# Basketball practice\n",
        "\n",
        "# make a variable called team_memebers and set it equal to 12\n",
        "# Write if statement stating that if the team members that show up to practice is >= 12 print \"We will definitly win!\"\n",
        "# Write elif statement stating that if the team members that show up to practice is at least >= 10 but less than 12 print \"Our chances of winning is good!\"\n",
        "# Write elif statement stating that if the team members that show up to practice is at least >= 8 but less than  10 print \"Our chances of winning are ok\"\n",
        "# Write elif statement stating that if the team memebers that show up to practice is at least >= 5 but less than 8 print \"Our chances of winning are low.\"\n",
        "# Write an else statement that prints \"We will probably lose\"\n"
      ],
      "metadata": {
        "id": "ZFP7UT5QbVST"
      },
      "execution_count": null,
      "outputs": []
    },
    {
      "cell_type": "code",
      "source": [
        "# Test 1\n",
        "\n",
        "team_members = 12\n",
        "\n",
        "if team_members >= 12:\n",
        "  print(f\"We will definitly win!\")\n",
        "elif team_members >= 10 and team_members < 12:\n",
        "  print(f\"Our chances of winning is good!\")\n",
        "elif team_members >= 8 and team_members < 10:\n",
        "  print(f\"Our chances of winning are ok.\")\n",
        "elif team_members >= 5 and team_members < 8:\n",
        "  print(f\"Our chances of winning are low.\")\n",
        "else:\n",
        "  print(f\"We will propably lose.\")"
      ],
      "metadata": {
        "colab": {
          "base_uri": "https://localhost:8080/"
        },
        "id": "GH1llO0Psc9q",
        "outputId": "c47d957a-6d07-4e1f-cb5b-08b9df21b04e"
      },
      "execution_count": 6,
      "outputs": [
        {
          "output_type": "stream",
          "name": "stdout",
          "text": [
            "We will definitly win!\n"
          ]
        }
      ]
    },
    {
      "cell_type": "code",
      "source": [
        "# Test 2\n",
        "\n",
        "team_members = 11\n",
        "\n",
        "if team_members >= 12:\n",
        "  print(f\"We will definitly win!\")\n",
        "elif team_members >= 10 and team_members < 12:\n",
        "  print(f\"Our chances of winning is good!\")\n",
        "elif team_members >= 8 and team_members < 10:\n",
        "  print(f\"Our chances of winning are ok.\")\n",
        "elif team_members >= 5 and team_members < 8:\n",
        "  print(f\"Our chances of winning are low.\")\n",
        "else:\n",
        "  print(f\"We will propably lose.\")"
      ],
      "metadata": {
        "colab": {
          "base_uri": "https://localhost:8080/"
        },
        "id": "Ua0H8IHwzpWf",
        "outputId": "772de8f5-92b5-49f1-d77c-6ccbf1163cd7"
      },
      "execution_count": 8,
      "outputs": [
        {
          "output_type": "stream",
          "name": "stdout",
          "text": [
            "Our chances of winning is good!\n"
          ]
        }
      ]
    },
    {
      "cell_type": "code",
      "source": [
        "# Test 3\n",
        "\n",
        "team_members = 9\n",
        "\n",
        "if team_members >= 12:\n",
        "  print(f\"We will definitly win!\")\n",
        "elif team_members >= 10 and team_members < 12:\n",
        "  print(f\"Our chances of winning is good!\")\n",
        "elif team_members >= 8 and team_members < 10:\n",
        "  print(f\"Our chances of winning are ok.\")\n",
        "elif team_members >= 5 and team_members < 8:\n",
        "  print(f\"Our chances of winning are low.\")\n",
        "else:\n",
        "  print(f\"We will propably lose.\")"
      ],
      "metadata": {
        "colab": {
          "base_uri": "https://localhost:8080/"
        },
        "id": "KszHbBPIz8EP",
        "outputId": "39c481fc-1fa2-42bc-80b6-5892cea32a25"
      },
      "execution_count": 9,
      "outputs": [
        {
          "output_type": "stream",
          "name": "stdout",
          "text": [
            "Our chances of winning are ok.\n"
          ]
        }
      ]
    },
    {
      "cell_type": "code",
      "source": [
        "# Test 4\n",
        "\n",
        "team_members = 6\n",
        "\n",
        "if team_members >= 12:\n",
        "  print(f\"We will definitly win!\")\n",
        "elif team_members >= 10 and team_members < 12:\n",
        "  print(f\"Our chances of winning is good!\")\n",
        "elif team_members >= 8 and team_members < 10:\n",
        "  print(f\"Our chances of winning are ok.\")\n",
        "elif team_members >= 5 and team_members < 8:\n",
        "  print(f\"Our chances of winning are low.\")\n",
        "else:\n",
        "  print(f\"We will propably lose.\")"
      ],
      "metadata": {
        "colab": {
          "base_uri": "https://localhost:8080/"
        },
        "id": "faDzSUCc0Akf",
        "outputId": "a5af5a4c-3bc0-4a8f-fc75-f79003583931"
      },
      "execution_count": 10,
      "outputs": [
        {
          "output_type": "stream",
          "name": "stdout",
          "text": [
            "Our chances of winning are low.\n"
          ]
        }
      ]
    },
    {
      "cell_type": "code",
      "source": [
        "# Test 5\n",
        "\n",
        "team_members = 4\n",
        "\n",
        "if team_members >= 12:\n",
        "  print(f\"We will definitly win!\")\n",
        "elif team_members >= 10 and team_members < 12:\n",
        "  print(f\"Our chances of winning is good!\")\n",
        "elif team_members >= 8 and team_members < 10:\n",
        "  print(f\"Our chances of winning are ok.\")\n",
        "elif team_members >= 5 and team_members < 8:\n",
        "  print(f\"Our chances of winning are low.\")\n",
        "else:\n",
        "  print(f\"We will propably lose.\")"
      ],
      "metadata": {
        "colab": {
          "base_uri": "https://localhost:8080/"
        },
        "id": "pzDVmKIX0FZ8",
        "outputId": "8c678e75-e651-4da3-92fc-776ac2cfcb7e"
      },
      "execution_count": 11,
      "outputs": [
        {
          "output_type": "stream",
          "name": "stdout",
          "text": [
            "We will propably lose.\n"
          ]
        }
      ]
    }
  ]
}