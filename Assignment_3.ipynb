{
  "nbformat": 4,
  "nbformat_minor": 0,
  "metadata": {
    "colab": {
      "provenance": [],
      "authorship_tag": "ABX9TyOSbCS4w/LiUVwNMhe1cST+",
      "include_colab_link": true
    },
    "kernelspec": {
      "name": "python3",
      "display_name": "Python 3"
    },
    "language_info": {
      "name": "python"
    }
  },
  "cells": [
    {
      "cell_type": "markdown",
      "metadata": {
        "id": "view-in-github",
        "colab_type": "text"
      },
      "source": [
        "<a href=\"https://colab.research.google.com/github/ItisIMouhamed/CSC221_mbadj002/blob/main/Assignment_3.ipynb\" target=\"_parent\"><img src=\"https://colab.research.google.com/assets/colab-badge.svg\" alt=\"Open In Colab\"/></a>"
      ]
    },
    {
      "cell_type": "code",
      "source": [
        "#TIY 2-1\n",
        "#2/13/24 Mouhamed Badji\n",
        "\n",
        "message = (\"Jordan is the GOAT!\")\n",
        "print(message)\n"
      ],
      "metadata": {
        "colab": {
          "base_uri": "https://localhost:8080/"
        },
        "id": "bh3gF-yAAhkD",
        "outputId": "92946626-92e3-45be-ade9-6d523404cf38"
      },
      "execution_count": null,
      "outputs": [
        {
          "output_type": "stream",
          "name": "stdout",
          "text": [
            "Jordan is the GOAT!\n"
          ]
        }
      ]
    },
    {
      "cell_type": "code",
      "source": [
        "#TIY 2-2\n",
        "#2/13/24 Mouhamed Badji\n",
        "\n",
        "message = (\"Jordan is the GOAT!\")\n",
        "print(message)\n",
        "message = (\"No, Lebron is the GOAT!\")\n",
        "print(message)"
      ],
      "metadata": {
        "colab": {
          "base_uri": "https://localhost:8080/"
        },
        "id": "rMrE__3WA3iC",
        "outputId": "65568b3b-9078-42cb-8290-c41641cc96e7"
      },
      "execution_count": null,
      "outputs": [
        {
          "output_type": "stream",
          "name": "stdout",
          "text": [
            "Jordan is the GOAT!\n",
            "No, Lebron is the GOAT!\n"
          ]
        }
      ]
    },
    {
      "cell_type": "code",
      "source": [
        "#TIY 2-3\n",
        "#2/13/24 Mouhamed Badji\n",
        "\n",
        "name = \"Mouhamed Badji\"\n",
        "print(f\"Hello {name}, how are you today? \")"
      ],
      "metadata": {
        "colab": {
          "base_uri": "https://localhost:8080/"
        },
        "id": "txE69W56zsFY",
        "outputId": "32c3d638-fa03-46e0-e927-f714d5992c7a"
      },
      "execution_count": 10,
      "outputs": [
        {
          "output_type": "stream",
          "name": "stdout",
          "text": [
            "Hello Mouhamed Badji, how are you today? \n"
          ]
        }
      ]
    },
    {
      "cell_type": "code",
      "source": [
        "#TIY 2-4\n",
        "#2/13/24 Mouhamed Badji\n",
        "\n",
        "name = \"mouhamed badji\"\n",
        "print(name.upper())\n",
        "print(name.lower())\n",
        "print(name.title())\n"
      ],
      "metadata": {
        "colab": {
          "base_uri": "https://localhost:8080/"
        },
        "id": "3NsCDKmgF1Lw",
        "outputId": "69d5f9c1-94b7-4eae-b31e-5508ece1c0a7"
      },
      "execution_count": 8,
      "outputs": [
        {
          "output_type": "stream",
          "name": "stdout",
          "text": [
            "MOUHAMED BADJI\n",
            "mouhamed badji\n",
            "Mouhamed Badji\n"
          ]
        }
      ]
    },
    {
      "cell_type": "code",
      "source": [
        "#TIY 2-5\n",
        "#2/13/24 Mouhamed Badji\n",
        "\n",
        "author = \"Bruce Lee\"\n",
        "quote = \"Be water my friend\"\n",
        "print(f\"{author} once said, {quote}!\")"
      ],
      "metadata": {
        "colab": {
          "base_uri": "https://localhost:8080/"
        },
        "id": "UxQ0YlHXHWfh",
        "outputId": "dccd5765-5157-4f07-f81a-2430ab807a31"
      },
      "execution_count": 15,
      "outputs": [
        {
          "output_type": "stream",
          "name": "stdout",
          "text": [
            "Bruce Lee once said, Be water my friend!\n"
          ]
        }
      ]
    },
    {
      "cell_type": "code",
      "source": [
        "#TIY 2-6\n",
        "#2/13/24 Mouhamed Badji\n",
        "\n",
        "famous_person = \"Bruce Lee\"\n",
        "message = \"be water my friend\"\n",
        "print(f\"{famous_person} once said, {message}!\")"
      ],
      "metadata": {
        "colab": {
          "base_uri": "https://localhost:8080/"
        },
        "id": "XRiDMZbuJa9v",
        "outputId": "efd564f1-46c2-4a42-b826-7f3f1e1cc8c5"
      },
      "execution_count": 16,
      "outputs": [
        {
          "output_type": "stream",
          "name": "stdout",
          "text": [
            "Bruce Lee once said, be water my friend!\n"
          ]
        }
      ]
    },
    {
      "cell_type": "code",
      "source": [
        "#TIY 2-7\n",
        "#2/13/24 Mouhamed Badji\n",
        "\n",
        "name = \"\\tMouhamed \\nBadji \"\n",
        "print(name)\n",
        "print(name.rstrip())\n",
        "print(name.lstrip())\n",
        "print(name.strip())\n",
        "\n"
      ],
      "metadata": {
        "colab": {
          "base_uri": "https://localhost:8080/"
        },
        "id": "sOY1UHXFL0Jp",
        "outputId": "3e3fc76b-3ae2-43f2-bbfb-c74645857a57"
      },
      "execution_count": 31,
      "outputs": [
        {
          "output_type": "stream",
          "name": "stdout",
          "text": [
            "\tMouhamed \n",
            "Badji \n",
            "\tMouhamed \n",
            "Badji\n",
            "Mouhamed \n",
            "Badji \n",
            "Mouhamed \n",
            "Badji\n"
          ]
        }
      ]
    },
    {
      "cell_type": "code",
      "source": [
        "#TIY 2-8\n",
        "#2/13/24 Mouhamed Badji\n",
        "\n",
        "filename = \"python_notes.txt\"\n",
        "print(filename)\n",
        "newfilename = filename.removesuffix('.txt')\n",
        "print(newfilename)"
      ],
      "metadata": {
        "colab": {
          "base_uri": "https://localhost:8080/"
        },
        "id": "_JCwo-AqR-GL",
        "outputId": "e2a01fdb-277a-4cdd-a20e-82462095375f"
      },
      "execution_count": 36,
      "outputs": [
        {
          "output_type": "stream",
          "name": "stdout",
          "text": [
            "python_notes.txt\n",
            "python_notes\n"
          ]
        }
      ]
    },
    {
      "cell_type": "code",
      "source": [
        "#TIY 2-9\n",
        "#2/13/24 Mouhamed Badji\n",
        "\n",
        "print(4+4)\n",
        "print(10-2)\n",
        "print(4*2)\n",
        "print(16/2)"
      ],
      "metadata": {
        "colab": {
          "base_uri": "https://localhost:8080/"
        },
        "id": "raYoYfuUUeio",
        "outputId": "692b0923-884c-4560-f781-2e736ed22a58"
      },
      "execution_count": 2,
      "outputs": [
        {
          "output_type": "stream",
          "name": "stdout",
          "text": [
            "8\n",
            "8\n",
            "8\n",
            "8.0\n"
          ]
        }
      ]
    },
    {
      "cell_type": "code",
      "source": [
        "#TIY 2-10\n",
        "#2/13/24 Mouhamed Badji\n",
        "\n",
        "Best_number = 2\n",
        "print(f\"The number {Best_number} is my favorite number.\")"
      ],
      "metadata": {
        "colab": {
          "base_uri": "https://localhost:8080/"
        },
        "id": "qedQLflEwtPB",
        "outputId": "18244217-fa34-420d-a5f7-a614651440fd"
      },
      "execution_count": 4,
      "outputs": [
        {
          "output_type": "stream",
          "name": "stdout",
          "text": [
            "The number 2 is my favorite number.\n"
          ]
        }
      ]
    },
    {
      "cell_type": "code",
      "source": [
        "#TIY 2-12\n",
        "#2/13/24 Mouhamed Badji\n",
        "\n",
        "import this\n"
      ],
      "metadata": {
        "colab": {
          "base_uri": "https://localhost:8080/"
        },
        "id": "lKl_Ky-yxShJ",
        "outputId": "684467c5-0585-41e3-f538-1d27705de9dd"
      },
      "execution_count": 5,
      "outputs": [
        {
          "output_type": "stream",
          "name": "stdout",
          "text": [
            "The Zen of Python, by Tim Peters\n",
            "\n",
            "Beautiful is better than ugly.\n",
            "Explicit is better than implicit.\n",
            "Simple is better than complex.\n",
            "Complex is better than complicated.\n",
            "Flat is better than nested.\n",
            "Sparse is better than dense.\n",
            "Readability counts.\n",
            "Special cases aren't special enough to break the rules.\n",
            "Although practicality beats purity.\n",
            "Errors should never pass silently.\n",
            "Unless explicitly silenced.\n",
            "In the face of ambiguity, refuse the temptation to guess.\n",
            "There should be one-- and preferably only one --obvious way to do it.\n",
            "Although that way may not be obvious at first unless you're Dutch.\n",
            "Now is better than never.\n",
            "Although never is often better than *right* now.\n",
            "If the implementation is hard to explain, it's a bad idea.\n",
            "If the implementation is easy to explain, it may be a good idea.\n",
            "Namespaces are one honking great idea -- let's do more of those!\n"
          ]
        }
      ]
    }
  ]
}