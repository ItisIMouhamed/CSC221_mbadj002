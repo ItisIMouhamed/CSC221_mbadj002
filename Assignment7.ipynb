{
  "nbformat": 4,
  "nbformat_minor": 0,
  "metadata": {
    "colab": {
      "provenance": [],
      "authorship_tag": "ABX9TyO/hTxYfg89PDXAc4NgEk+s",
      "include_colab_link": true
    },
    "kernelspec": {
      "name": "python3",
      "display_name": "Python 3"
    },
    "language_info": {
      "name": "python"
    }
  },
  "cells": [
    {
      "cell_type": "markdown",
      "metadata": {
        "id": "view-in-github",
        "colab_type": "text"
      },
      "source": [
        "<a href=\"https://colab.research.google.com/github/ItisIMouhamed/CSC221_mbadj002/blob/main/Assignment7.ipynb\" target=\"_parent\"><img src=\"https://colab.research.google.com/assets/colab-badge.svg\" alt=\"Open In Colab\"/></a>"
      ]
    },
    {
      "cell_type": "markdown",
      "source": [
        "# TIY 6-1\n",
        "- Person\n"
      ],
      "metadata": {
        "id": "-_bE6M4fu24x"
      }
    },
    {
      "cell_type": "code",
      "source": [
        "mom = {'first_name': \"Lisa\", 'Last_name': \"Badji\", 'City': \"New_York\"}\n",
        "print(mom['first_name'])\n",
        "print(mom['Last_name'])\n",
        "print(mom['City'])"
      ],
      "metadata": {
        "colab": {
          "base_uri": "https://localhost:8080/"
        },
        "id": "Umn1ZTlACGRK",
        "outputId": "5449dea4-52db-4f48-847c-190b8a538599"
      },
      "execution_count": null,
      "outputs": [
        {
          "output_type": "stream",
          "name": "stdout",
          "text": [
            "Lisa\n",
            "Badji\n",
            "New_York\n"
          ]
        }
      ]
    },
    {
      "cell_type": "markdown",
      "source": [
        "# TIY 6-2\n",
        "- Favorite Numbers"
      ],
      "metadata": {
        "id": "kOHfoQwjPVW4"
      }
    },
    {
      "cell_type": "code",
      "source": [
        "Favorite_Numbers = {'Kalvin': 1, 'Hafiz': 2, 'Dares': 14, 'Ben': 10, 'Jay': 24}\n",
        "print(Favorite_Numbers['Kalvin'])\n",
        "print(Favorite_Numbers['Hafiz'])\n",
        "print(Favorite_Numbers['Dares'])\n",
        "print(Favorite_Numbers['Ben'])\n",
        "print(Favorite_Numbers['Jay'])"
      ],
      "metadata": {
        "colab": {
          "base_uri": "https://localhost:8080/"
        },
        "id": "C8V3glpmPZXk",
        "outputId": "c9e4b143-73ec-4914-cf9f-3f058e1788c6"
      },
      "execution_count": null,
      "outputs": [
        {
          "output_type": "stream",
          "name": "stdout",
          "text": [
            "1\n",
            "2\n",
            "14\n",
            "10\n",
            "24\n"
          ]
        }
      ]
    },
    {
      "cell_type": "markdown",
      "source": [
        "# TIY 6-3\n",
        "- Glossary"
      ],
      "metadata": {
        "id": "JvbCb7NbSXus"
      }
    },
    {
      "cell_type": "code",
      "source": [
        "Glossary = { 'Algorithm':\n",
        "            \"a set of instructions that guides a computer in solving a specific problem.\",\n",
        "            'Argument':\n",
        "            \"provides additional information to a function.\",\n",
        "            'Arrays':\n",
        "            \" containers that hold variables.\",\n",
        "            'print':\"prints the specified message to the screen, or other standard output device.\",\n",
        "            'if': \"fundamental construct used for conditional execution.\"\n",
        "            }"
      ],
      "metadata": {
        "id": "izVx0zZ1TwrE"
      },
      "execution_count": null,
      "outputs": []
    },
    {
      "cell_type": "code",
      "source": [
        "print(f\" A Algorithm is {Glossary['Algorithm']}\")\n",
        "print('\\n')\n",
        "print(f\"A Argument {Glossary['Argument']}\")\n",
        "print('\\n')\n",
        "print(f\"Arrays are{Glossary['Arrays']}\")\n",
        "print('\\n')\n",
        "print(f\"The message print, {Glossary['print']}\")\n",
        "print('\\n')\n",
        "print(f\"A if is a {Glossary['if']}\")"
      ],
      "metadata": {
        "colab": {
          "base_uri": "https://localhost:8080/"
        },
        "id": "mpiJv70wb-61",
        "outputId": "b18845d5-235f-4952-d034-6449dea51a95"
      },
      "execution_count": null,
      "outputs": [
        {
          "output_type": "stream",
          "name": "stdout",
          "text": [
            " A Algorithm is a set of instructions that guides a computer in solving a specific problem.\n",
            "\n",
            "\n",
            "A Argument provides additional information to a function.\n",
            "\n",
            "\n",
            "Arrays are containers that hold variables.\n",
            "\n",
            "\n",
            "The message print, prints the specified message to the screen, or other standard output device.\n",
            "\n",
            "\n",
            "A if is a fundamental construct used for conditional execution.\n"
          ]
        }
      ]
    },
    {
      "cell_type": "markdown",
      "source": [
        "# TIY 6-4\n",
        "- Glossary 2"
      ],
      "metadata": {
        "id": "uzIOsYJB9VnX"
      }
    },
    {
      "cell_type": "code",
      "source": [
        "Glossary = { 'Algorithm':\n",
        "            \"a set of instructions that guides a computer in solving a specific problem.\",\n",
        "            'Argument':\n",
        "            \"provides additional information to a function.\",\n",
        "            'Arrays':\n",
        "            \" containers that hold variables.\",\n",
        "            'print':\"prints the specified message to the screen, or other standard output device.\",\n",
        "            'if': \"fundamental construct used for conditional execution.\"\n",
        "            }\n",
        "\n"
      ],
      "metadata": {
        "id": "Hskq7yhm9bmA"
      },
      "execution_count": null,
      "outputs": []
    },
    {
      "cell_type": "code",
      "source": [
        "for key, vaule in Glossary.items():\n",
        "  print(key, \":\", vaule)"
      ],
      "metadata": {
        "colab": {
          "base_uri": "https://localhost:8080/"
        },
        "id": "lT-igq1yCCEF",
        "outputId": "c82e9410-5dc9-4dfb-841b-2b74a5aa5539"
      },
      "execution_count": null,
      "outputs": [
        {
          "output_type": "stream",
          "name": "stdout",
          "text": [
            "Algorithm : a set of instructions that guides a computer in solving a specific problem.\n",
            "Argument : provides additional information to a function.\n",
            "Arrays :  containers that hold variables.\n",
            "print : prints the specified message to the screen, or other standard output device.\n",
            "if : fundamental construct used for conditional execution.\n"
          ]
        }
      ]
    },
    {
      "cell_type": "code",
      "source": [
        "Glossary = { 'Algorithm':\n",
        "            \"a set of instructions that guides a computer in solving a specific problem.\",\n",
        "\n",
        "            'Argument':\n",
        "            \"provides additional information to a function.\",\n",
        "\n",
        "            'Arrays':\n",
        "            \" containers that hold variables.\",\n",
        "\n",
        "            'print':\n",
        "             \"prints the specified message to the screen, or other standard output device.\",\n",
        "\n",
        "            'if':\n",
        "             \"fundamental construct used for conditional execution.\",\n",
        "\n",
        "             'Variable':\n",
        "             \"is a place in computer memory with an assigned name.\",\n",
        "\n",
        "             'List':\n",
        "             \"is a data type that can store a collection of values\",\n",
        "\n",
        "             'Function':\n",
        "             \"is a reusable block of code that performs a certain action (or actions).\",\n",
        "\n",
        "             'Input':\n",
        "             \"allows us to get input from the user by showing a prompt.\",\n",
        "\n",
        "             'False':\n",
        "             \"is a Boolean value, and result of a comparison operation.\"\n",
        "\n",
        "            }"
      ],
      "metadata": {
        "id": "qUZzpmvVBDDI"
      },
      "execution_count": null,
      "outputs": []
    },
    {
      "cell_type": "code",
      "source": [
        "for key, vaule in Glossary.items():\n",
        "  print(key, \":\", vaule)"
      ],
      "metadata": {
        "colab": {
          "base_uri": "https://localhost:8080/"
        },
        "id": "OkorusUYDj75",
        "outputId": "ce8da212-8267-42a9-8120-ff3f8e79fcda"
      },
      "execution_count": null,
      "outputs": [
        {
          "output_type": "stream",
          "name": "stdout",
          "text": [
            "Algorithm : a set of instructions that guides a computer in solving a specific problem.\n",
            "Argument : provides additional information to a function.\n",
            "Arrays :  containers that hold variables.\n",
            "print : prints the specified message to the screen, or other standard output device.\n",
            "if : fundamental construct used for conditional execution.\n",
            "Variable : is a place in computer memory with an assigned name.\n",
            "List : is a data type that can store a collection of values\n",
            "Function : is a reusable block of code that performs a certain action (or actions).\n",
            "Input : allows us to get input from the user by showing a prompt.\n",
            "False : is a Boolean value, and result of a comparison operation.\n"
          ]
        }
      ]
    },
    {
      "cell_type": "markdown",
      "source": [
        "# TIY 6-11\n",
        "- Cities"
      ],
      "metadata": {
        "id": "fV0C06ABD8Yt"
      }
    },
    {
      "cell_type": "code",
      "source": [
        "my_cities = {\n",
        "    'New_York': {\n",
        "        'Location': 'USA',\n",
        "        'Population': '8.80 Million',\n",
        "        'Fun_fact': 'The Knicks are from here',\n",
        "    },\n",
        "\n",
        "    'Paris': {\n",
        "        'Location': 'France',\n",
        "        'Population': '11 Million',\n",
        "        'Fun_fact': 'Known as the \"City of Lights\" ',\n",
        "    },\n",
        "\n",
        "    'Tokyo': {\n",
        "        'Location': 'Japan',\n",
        "        'Population': '38 Million',\n",
        "        'Fun_fact': 'It is the worlds largest city',\n",
        "    },\n",
        "\n",
        "    }"
      ],
      "metadata": {
        "id": "qI38KT5wEEAy"
      },
      "execution_count": null,
      "outputs": []
    },
    {
      "cell_type": "code",
      "source": [
        "for key, vaule in my_cities.items():\n",
        "  print(key, \":\", vaule)"
      ],
      "metadata": {
        "colab": {
          "base_uri": "https://localhost:8080/"
        },
        "id": "U3ohEwebHYcN",
        "outputId": "6b678094-a666-401a-eab4-774198a747b1"
      },
      "execution_count": null,
      "outputs": [
        {
          "output_type": "stream",
          "name": "stdout",
          "text": [
            "New_York : {'Location': 'USA', 'Population': '8.80 Million', 'Fun_fact': 'The Knicks are from here'}\n",
            "Paris : {'Location': 'France', 'Population': '11 Million', 'Fun_fact': 'Known as the \"City of Lights\" '}\n",
            "Tokyo : {'Location': 'Japan', 'Population': '38 Million', 'Fun_fact': 'It is the worlds largest city'}\n"
          ]
        }
      ]
    },
    {
      "cell_type": "markdown",
      "source": [
        "# Part Two On Brightspace\n",
        "- Read a file from a file"
      ],
      "metadata": {
        "id": "FZNOxc7-E4aM"
      }
    },
    {
      "cell_type": "code",
      "source": [
        "from google.colab import files\n",
        "uploaded = files.upload()"
      ],
      "metadata": {
        "colab": {
          "base_uri": "https://localhost:8080/",
          "height": 73
        },
        "id": "euUswrj3E7Ls",
        "outputId": "28c4f4a5-d82a-40d4-e234-0a1b6eb71fb8"
      },
      "execution_count": null,
      "outputs": [
        {
          "output_type": "display_data",
          "data": {
            "text/plain": [
              "<IPython.core.display.HTML object>"
            ],
            "text/html": [
              "\n",
              "     <input type=\"file\" id=\"files-52bfccfa-2107-436e-92f9-b4be2607fede\" name=\"files[]\" multiple disabled\n",
              "        style=\"border:none\" />\n",
              "     <output id=\"result-52bfccfa-2107-436e-92f9-b4be2607fede\">\n",
              "      Upload widget is only available when the cell has been executed in the\n",
              "      current browser session. Please rerun this cell to enable.\n",
              "      </output>\n",
              "      <script>// Copyright 2017 Google LLC\n",
              "//\n",
              "// Licensed under the Apache License, Version 2.0 (the \"License\");\n",
              "// you may not use this file except in compliance with the License.\n",
              "// You may obtain a copy of the License at\n",
              "//\n",
              "//      http://www.apache.org/licenses/LICENSE-2.0\n",
              "//\n",
              "// Unless required by applicable law or agreed to in writing, software\n",
              "// distributed under the License is distributed on an \"AS IS\" BASIS,\n",
              "// WITHOUT WARRANTIES OR CONDITIONS OF ANY KIND, either express or implied.\n",
              "// See the License for the specific language governing permissions and\n",
              "// limitations under the License.\n",
              "\n",
              "/**\n",
              " * @fileoverview Helpers for google.colab Python module.\n",
              " */\n",
              "(function(scope) {\n",
              "function span(text, styleAttributes = {}) {\n",
              "  const element = document.createElement('span');\n",
              "  element.textContent = text;\n",
              "  for (const key of Object.keys(styleAttributes)) {\n",
              "    element.style[key] = styleAttributes[key];\n",
              "  }\n",
              "  return element;\n",
              "}\n",
              "\n",
              "// Max number of bytes which will be uploaded at a time.\n",
              "const MAX_PAYLOAD_SIZE = 100 * 1024;\n",
              "\n",
              "function _uploadFiles(inputId, outputId) {\n",
              "  const steps = uploadFilesStep(inputId, outputId);\n",
              "  const outputElement = document.getElementById(outputId);\n",
              "  // Cache steps on the outputElement to make it available for the next call\n",
              "  // to uploadFilesContinue from Python.\n",
              "  outputElement.steps = steps;\n",
              "\n",
              "  return _uploadFilesContinue(outputId);\n",
              "}\n",
              "\n",
              "// This is roughly an async generator (not supported in the browser yet),\n",
              "// where there are multiple asynchronous steps and the Python side is going\n",
              "// to poll for completion of each step.\n",
              "// This uses a Promise to block the python side on completion of each step,\n",
              "// then passes the result of the previous step as the input to the next step.\n",
              "function _uploadFilesContinue(outputId) {\n",
              "  const outputElement = document.getElementById(outputId);\n",
              "  const steps = outputElement.steps;\n",
              "\n",
              "  const next = steps.next(outputElement.lastPromiseValue);\n",
              "  return Promise.resolve(next.value.promise).then((value) => {\n",
              "    // Cache the last promise value to make it available to the next\n",
              "    // step of the generator.\n",
              "    outputElement.lastPromiseValue = value;\n",
              "    return next.value.response;\n",
              "  });\n",
              "}\n",
              "\n",
              "/**\n",
              " * Generator function which is called between each async step of the upload\n",
              " * process.\n",
              " * @param {string} inputId Element ID of the input file picker element.\n",
              " * @param {string} outputId Element ID of the output display.\n",
              " * @return {!Iterable<!Object>} Iterable of next steps.\n",
              " */\n",
              "function* uploadFilesStep(inputId, outputId) {\n",
              "  const inputElement = document.getElementById(inputId);\n",
              "  inputElement.disabled = false;\n",
              "\n",
              "  const outputElement = document.getElementById(outputId);\n",
              "  outputElement.innerHTML = '';\n",
              "\n",
              "  const pickedPromise = new Promise((resolve) => {\n",
              "    inputElement.addEventListener('change', (e) => {\n",
              "      resolve(e.target.files);\n",
              "    });\n",
              "  });\n",
              "\n",
              "  const cancel = document.createElement('button');\n",
              "  inputElement.parentElement.appendChild(cancel);\n",
              "  cancel.textContent = 'Cancel upload';\n",
              "  const cancelPromise = new Promise((resolve) => {\n",
              "    cancel.onclick = () => {\n",
              "      resolve(null);\n",
              "    };\n",
              "  });\n",
              "\n",
              "  // Wait for the user to pick the files.\n",
              "  const files = yield {\n",
              "    promise: Promise.race([pickedPromise, cancelPromise]),\n",
              "    response: {\n",
              "      action: 'starting',\n",
              "    }\n",
              "  };\n",
              "\n",
              "  cancel.remove();\n",
              "\n",
              "  // Disable the input element since further picks are not allowed.\n",
              "  inputElement.disabled = true;\n",
              "\n",
              "  if (!files) {\n",
              "    return {\n",
              "      response: {\n",
              "        action: 'complete',\n",
              "      }\n",
              "    };\n",
              "  }\n",
              "\n",
              "  for (const file of files) {\n",
              "    const li = document.createElement('li');\n",
              "    li.append(span(file.name, {fontWeight: 'bold'}));\n",
              "    li.append(span(\n",
              "        `(${file.type || 'n/a'}) - ${file.size} bytes, ` +\n",
              "        `last modified: ${\n",
              "            file.lastModifiedDate ? file.lastModifiedDate.toLocaleDateString() :\n",
              "                                    'n/a'} - `));\n",
              "    const percent = span('0% done');\n",
              "    li.appendChild(percent);\n",
              "\n",
              "    outputElement.appendChild(li);\n",
              "\n",
              "    const fileDataPromise = new Promise((resolve) => {\n",
              "      const reader = new FileReader();\n",
              "      reader.onload = (e) => {\n",
              "        resolve(e.target.result);\n",
              "      };\n",
              "      reader.readAsArrayBuffer(file);\n",
              "    });\n",
              "    // Wait for the data to be ready.\n",
              "    let fileData = yield {\n",
              "      promise: fileDataPromise,\n",
              "      response: {\n",
              "        action: 'continue',\n",
              "      }\n",
              "    };\n",
              "\n",
              "    // Use a chunked sending to avoid message size limits. See b/62115660.\n",
              "    let position = 0;\n",
              "    do {\n",
              "      const length = Math.min(fileData.byteLength - position, MAX_PAYLOAD_SIZE);\n",
              "      const chunk = new Uint8Array(fileData, position, length);\n",
              "      position += length;\n",
              "\n",
              "      const base64 = btoa(String.fromCharCode.apply(null, chunk));\n",
              "      yield {\n",
              "        response: {\n",
              "          action: 'append',\n",
              "          file: file.name,\n",
              "          data: base64,\n",
              "        },\n",
              "      };\n",
              "\n",
              "      let percentDone = fileData.byteLength === 0 ?\n",
              "          100 :\n",
              "          Math.round((position / fileData.byteLength) * 100);\n",
              "      percent.textContent = `${percentDone}% done`;\n",
              "\n",
              "    } while (position < fileData.byteLength);\n",
              "  }\n",
              "\n",
              "  // All done.\n",
              "  yield {\n",
              "    response: {\n",
              "      action: 'complete',\n",
              "    }\n",
              "  };\n",
              "}\n",
              "\n",
              "scope.google = scope.google || {};\n",
              "scope.google.colab = scope.google.colab || {};\n",
              "scope.google.colab._files = {\n",
              "  _uploadFiles,\n",
              "  _uploadFilesContinue,\n",
              "};\n",
              "})(self);\n",
              "</script> "
            ]
          },
          "metadata": {}
        },
        {
          "output_type": "stream",
          "name": "stdout",
          "text": [
            "Saving Snowfall.txt to Snowfall.txt\n"
          ]
        }
      ]
    },
    {
      "cell_type": "code",
      "source": [
        "Snowfall_test = {}\n",
        "f = open(\"Snowfall.txt\", \"r\")\n",
        "lines = f.readlines()\n",
        "\n",
        "\n",
        "for line in lines:\n",
        "  line = line.strip()\n",
        "  name_num = line.split(',')\n",
        "  Snowfall_test[name_num[0]] = name_num[1]\n",
        "  print(Snowfall_test)\n",
        "\n"
      ],
      "metadata": {
        "colab": {
          "base_uri": "https://localhost:8080/"
        },
        "id": "qiEP_rX9FEHE",
        "outputId": "b4c15ce3-516e-4f2e-a581-ed4af936b8a8"
      },
      "execution_count": null,
      "outputs": [
        {
          "output_type": "stream",
          "name": "stdout",
          "text": [
            "{'Franklin': ' 91'}\n",
            "{'Franklin': ' 91', 'Man Boy': ' 94'}\n",
            "{'Franklin': ' 91', 'Man Boy': ' 94', 'Leon': ' 97'}\n",
            "{'Franklin': ' 91', 'Man Boy': ' 94', 'Leon': ' 97', 'Jerome': ' 89'}\n",
            "{'Franklin': ' 91', 'Man Boy': ' 94', 'Leon': ' 97', 'Jerome': ' 89', 'Teddy': ' 97'}\n",
            "{'Franklin': ' 91', 'Man Boy': ' 94', 'Leon': ' 97', 'Jerome': ' 89', 'Teddy': ' 97', 'Skully': ' 79'}\n",
            "{'Franklin': ' 91', 'Man Boy': ' 94', 'Leon': ' 97', 'Jerome': ' 89', 'Teddy': ' 97', 'Skully': ' 79', 'Sissy': ' 82'}\n"
          ]
        }
      ]
    },
    {
      "cell_type": "code",
      "source": [
        "keys = list(Snowfall_test.keys())\n",
        "keys.sort()\n",
        "for i in keys:\n",
        "  print(i, \":\", Snowfall_test[i])\n"
      ],
      "metadata": {
        "colab": {
          "base_uri": "https://localhost:8080/"
        },
        "id": "Avdw3VMyY1bg",
        "outputId": "e555dc2d-721b-4f8b-99cc-e2ec878ac1b8"
      },
      "execution_count": null,
      "outputs": [
        {
          "output_type": "stream",
          "name": "stdout",
          "text": [
            "Franklin :  91\n",
            "Jerome :  89\n",
            "Leon :  97\n",
            "Man Boy :  94\n",
            "Sissy :  82\n",
            "Skully :  79\n",
            "Teddy :  97\n"
          ]
        }
      ]
    },
    {
      "cell_type": "code",
      "source": [
        "\n",
        "values = list(Snowfall_test.values())\n",
        "\n",
        "values.sort()\n",
        "\n",
        "for value in values:\n",
        "    for key, val in Snowfall_test.items():\n",
        "        if val == value:\n",
        "            print(key, \":\", value)\n",
        "            break\n",
        "\n"
      ],
      "metadata": {
        "colab": {
          "base_uri": "https://localhost:8080/"
        },
        "id": "qo1f4eAaTFh2",
        "outputId": "70fb34a9-6f8d-4b19-8235-3fb9a8045251"
      },
      "execution_count": null,
      "outputs": [
        {
          "output_type": "stream",
          "name": "stdout",
          "text": [
            "Skully :  79\n",
            "Sissy :  82\n",
            "Jerome :  89\n",
            "Franklin :  91\n",
            "Man Boy :  94\n",
            "Leon :  97\n",
            "Leon :  97\n"
          ]
        }
      ]
    }
  ]
}