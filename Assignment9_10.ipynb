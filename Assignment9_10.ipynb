{
  "nbformat": 4,
  "nbformat_minor": 0,
  "metadata": {
    "colab": {
      "provenance": [],
      "authorship_tag": "ABX9TyOf9X3jgBKAI5l7lsYWeRjs",
      "include_colab_link": true
    },
    "kernelspec": {
      "name": "python3",
      "display_name": "Python 3"
    },
    "language_info": {
      "name": "python"
    }
  },
  "cells": [
    {
      "cell_type": "markdown",
      "metadata": {
        "id": "view-in-github",
        "colab_type": "text"
      },
      "source": [
        "<a href=\"https://colab.research.google.com/github/ItisIMouhamed/CSC221_mbadj002/blob/main/Assignment9_10.ipynb\" target=\"_parent\"><img src=\"https://colab.research.google.com/assets/colab-badge.svg\" alt=\"Open In Colab\"/></a>"
      ]
    },
    {
      "cell_type": "markdown",
      "source": [
        "# Point Tracker\n",
        "- Function will ask althletes to enter in the points they scored for last 4 games\n",
        "- The function will return the average for their last 4 games"
      ],
      "metadata": {
        "id": "GKEW9CpKIgMS"
      }
    },
    {
      "cell_type": "code",
      "source": [
        "def points(a,b,c,d):\n",
        "\n",
        "  point_sum = a + b + c + d\n",
        "\n",
        "  average_points = point_sum/4\n",
        "\n",
        "  print(f\"You scored {point_sum} over the last 4 games.\")\n",
        "\n",
        "  print(f\"You avergaed {average_points} points over the last 4 games.\")\n",
        "\n",
        "  return point_sum, average_points\n"
      ],
      "metadata": {
        "id": "hYPcVbfUJbMu"
      },
      "execution_count": null,
      "outputs": []
    },
    {
      "cell_type": "code",
      "source": [
        "total_points, average_points = points(12,14,25,10)"
      ],
      "metadata": {
        "colab": {
          "base_uri": "https://localhost:8080/"
        },
        "id": "dmABi866PhGa",
        "outputId": "7faf4ee4-552a-40f9-c682-52b69429fab8"
      },
      "execution_count": null,
      "outputs": [
        {
          "output_type": "stream",
          "name": "stdout",
          "text": [
            "You scored 61 over the last 4 games.\n",
            "You avergaed 15.25 points over the last 4 games.\n"
          ]
        }
      ]
    },
    {
      "cell_type": "markdown",
      "source": [
        "# Favorite Artist\n",
        "- Function will ask user to input their favorite artist"
      ],
      "metadata": {
        "id": "geh3NBfNfd8T"
      }
    },
    {
      "cell_type": "code",
      "source": [
        "def favorite_artist(name):\n",
        "  print(f\"My favorite artist is {name}\")\n",
        "\n"
      ],
      "metadata": {
        "id": "NW7uz9tYBy1w"
      },
      "execution_count": null,
      "outputs": []
    },
    {
      "cell_type": "code",
      "source": [
        "favorite_artist(\"J Cole\")\n",
        "favorite_artist(\"Lil Wayne\")"
      ],
      "metadata": {
        "colab": {
          "base_uri": "https://localhost:8080/"
        },
        "id": "QK3Yw8qOCCPb",
        "outputId": "5209f8fd-d404-4faf-a83d-c68770ee2f9e"
      },
      "execution_count": null,
      "outputs": [
        {
          "output_type": "stream",
          "name": "stdout",
          "text": [
            "My favorite artist is J Cole\n",
            "My favorite artist is Lil Wayne\n"
          ]
        }
      ]
    },
    {
      "cell_type": "markdown",
      "source": [
        "# Greetings\n",
        "- This function will greet the user\n",
        "- If there is no name entered it will say \"Hello Guest\""
      ],
      "metadata": {
        "id": "KoVdtA_yT4CW"
      }
    },
    {
      "cell_type": "code",
      "source": [
        "def greet(name=\"User\"):\n",
        "    return f\"Hello, {name}!\"\n"
      ],
      "metadata": {
        "id": "lpgPWMP5UZ7S"
      },
      "execution_count": null,
      "outputs": []
    },
    {
      "cell_type": "code",
      "source": [
        "\n",
        "message = greet(\"Hafiz\")\n",
        "print(message)\n",
        "\n",
        "default_message = greet()\n",
        "print(default_message)"
      ],
      "metadata": {
        "colab": {
          "base_uri": "https://localhost:8080/"
        },
        "id": "2ohTLgDfUcg0",
        "outputId": "6235e434-f7c3-443e-d461-ba7a764c635a"
      },
      "execution_count": null,
      "outputs": [
        {
          "output_type": "stream",
          "name": "stdout",
          "text": [
            "Hello, Hafiz!\n",
            "Hello, Guest!\n"
          ]
        }
      ]
    },
    {
      "cell_type": "markdown",
      "source": [
        "# Number Guessing Game\n",
        "- This function gets the user to play a random number guessing game\n",
        "- It will make the user keep guessing until they correctly guess the right number"
      ],
      "metadata": {
        "id": "8lqGKpJvZB5Y"
      }
    },
    {
      "cell_type": "code",
      "source": [
        "#Imports\n",
        "import random\n",
        "\n",
        "#Global Variables\n",
        "number = 0\n",
        "game_done = False\n",
        "\n",
        "#Function definitions\n",
        "def set_number(num):\n",
        "    global number\n",
        "    number = num\n",
        "\n"
      ],
      "metadata": {
        "id": "X5Luzl0FZMpo"
      },
      "execution_count": null,
      "outputs": []
    },
    {
      "cell_type": "code",
      "source": [
        "def get_number():\n",
        "    return number\n",
        "\n",
        "def set_game_done(done):\n",
        "    global game_done\n",
        "    game_done = done\n",
        "\n",
        "def get_game_done():\n",
        "    return game_done\n",
        "\n",
        "def get_guess():\n",
        "    try:\n",
        "        return int(input(f\"Enter a number from 1-11: \"))\n",
        "    except ValueError:\n",
        "        print(f\"Invalid number, try again.\")\n",
        "        return get_guess()\n",
        "\n",
        "#Use 'constants' instead of the magic numbers -1, 1, and 0 in your code.\n",
        "TOO_LOW = -1\n",
        "TOO_HIGH = 1\n",
        "CORRECT = 0\n",
        "\n",
        "def check_guess(guess):\n",
        "    if guess == number:\n",
        "        set_game_done(True)\n",
        "        return CORRECT\n",
        "    elif guess < number:\n",
        "        return TOO_LOW\n",
        "    else:\n",
        "        return TOO_HIGH\n",
        "\n",
        "\n",
        "def print_feedback(feedback_code):\n",
        "    if feedback_code == CORRECT:\n",
        "        print(f\"Congrations!\")\n",
        "    elif feedback_code == TOO_LOW:\n",
        "        print(f\"This is too low!\")\n",
        "    else:\n",
        "        print(f\"This is too high!\")\n",
        "\n",
        "def play_game():\n",
        "    print(\"Welcome to the game.\")\n",
        "    get_guess()\n",
        "    set_number(random.randint(1,11))\n",
        "    while get_game_done() == False:\n",
        "        guess = get_guess()\n",
        "        feedback = check_guess(guess)\n",
        "        print_feedback(feedback)\n",
        "    set_number(random.randint(1,11))\n",
        "\n",
        "\n",
        "\n",
        "#Code\n",
        "#Plays the guessing game iff this file was run directly\n",
        "\n",
        "if __name__ == \"__main__\":\n",
        "    play_game()\n"
      ],
      "metadata": {
        "colab": {
          "base_uri": "https://localhost:8080/"
        },
        "id": "85a2ygBaZo1W",
        "outputId": "64db2f8d-9afd-4a8e-ca21-e65f887ff9b1"
      },
      "execution_count": null,
      "outputs": [
        {
          "output_type": "stream",
          "name": "stdout",
          "text": [
            "Welcome to the game.\n",
            "Enter a number from 1-11: 4\n",
            "Enter a number from 1-11: 3\n",
            "This is too low!\n",
            "Enter a number from 1-11: 10\n",
            "This is too high!\n",
            "Enter a number from 1-11: 11\n",
            "This is too high!\n",
            "Enter a number from 1-11: 12\n",
            "This is too high!\n",
            "Enter a number from 1-11: 4\n",
            "Congrations!\n"
          ]
        }
      ]
    },
    {
      "cell_type": "markdown",
      "source": [
        "# Favorite Anime\n",
        "- Function asks user to state their favorite anime\n",
        "- Then asks user to rate it from 1-10\n",
        "- There will be a loop in order to get multiple inputs from the user to fill up the dictionary\n",
        "- Code will end when the user inputs \"quit\""
      ],
      "metadata": {
        "id": "qqP_VFJBcUPp"
      }
    },
    {
      "cell_type": "code",
      "source": [
        "def favorite_anime():\n",
        "    favorite_anime_dict = {}\n",
        "\n",
        "    while True:\n",
        "        user_input = input(\"Enter your favorite anime (or 'quit' to exit): \")\n",
        "\n",
        "        if user_input == 'quit':\n",
        "            break\n",
        "        else:\n",
        "            rating = input(\"Rate it out of 10: \")\n",
        "            favorite_anime_dict[user_input] = rating\n",
        "\n",
        "    return favorite_anime_dict\n"
      ],
      "metadata": {
        "id": "1THtDN0PesX6"
      },
      "execution_count": 24,
      "outputs": []
    },
    {
      "cell_type": "code",
      "source": [
        "\n",
        "# Example usage:\n",
        "anime_ratings = favorite_anime()\n",
        "print(\"Your favorite anime and ratings:\")\n",
        "for anime, rating in anime_ratings.items():\n",
        "    print(f\"{anime}: {rating}\")"
      ],
      "metadata": {
        "colab": {
          "base_uri": "https://localhost:8080/"
        },
        "id": "kHYUOpfWcZLJ",
        "outputId": "260fddf8-640d-464d-e646-4e4f316fcca3"
      },
      "execution_count": 25,
      "outputs": [
        {
          "output_type": "stream",
          "name": "stdout",
          "text": [
            "Enter your favorite anime (or 'quit' to exit): One Piece\n",
            "Rate it out of 10: 10\n",
            "Enter your favorite anime (or 'quit' to exit): Naruto\n",
            "Rate it out of 10: 8.5\n",
            "Enter your favorite anime (or 'quit' to exit): AOT\n",
            "Rate it out of 10: 9\n",
            "Enter your favorite anime (or 'quit' to exit): DBZ\n",
            "Rate it out of 10: 9\n",
            "Enter your favorite anime (or 'quit' to exit): Code Geass\n",
            "Rate it out of 10: 8.5\n",
            "Enter your favorite anime (or 'quit' to exit): Fairy Tail\n",
            "Rate it out of 10: 7\n",
            "Enter your favorite anime (or 'quit' to exit): quit\n",
            "Your favorite anime and ratings:\n",
            "One Piece: 10\n",
            "Naruto: 8.5\n",
            "AOT: 9\n",
            "DBZ: 9\n",
            "Code Geass: 8.5\n",
            "Fairy Tail: 7\n"
          ]
        }
      ]
    },
    {
      "cell_type": "markdown",
      "source": [
        "# Age\n",
        "- Function will have differnt ages\n",
        "- Will sort those ages from youngest to oldest"
      ],
      "metadata": {
        "id": "QvkI88xhkbk4"
      }
    },
    {
      "cell_type": "code",
      "source": [
        "def sort_age(numbers):\n",
        "    sorted_age = sorted(numbers)\n",
        "    return sorted_age\n"
      ],
      "metadata": {
        "id": "Bh93tLaakeI3"
      },
      "execution_count": 29,
      "outputs": []
    },
    {
      "cell_type": "code",
      "source": [
        "\n",
        "# Example usage:\n",
        "Differnt_Ages = [99, 25, 19, 10, 16, 13]\n",
        "sorted_numbers = sort_age(Differnt_Ages)\n",
        "print(\"Sorted ages:\", sorted_numbers)"
      ],
      "metadata": {
        "colab": {
          "base_uri": "https://localhost:8080/"
        },
        "id": "bbZY5_zQl4Ef",
        "outputId": "57086066-8378-47d2-bdf7-465492a67965"
      },
      "execution_count": 31,
      "outputs": [
        {
          "output_type": "stream",
          "name": "stdout",
          "text": [
            "Sorted ages: [10, 13, 16, 19, 25, 99]\n"
          ]
        }
      ]
    },
    {
      "cell_type": "markdown",
      "source": [
        "#  Describe Bed\n",
        "- Function will ask user to describe the type of bed they have\n",
        "- Their bed color"
      ],
      "metadata": {
        "id": "xqpm06LuLz92"
      }
    },
    {
      "cell_type": "code",
      "source": [
        "def describe_bed(bed_type, bed_color):\n",
        "  print(f\"\\nI have a {bed_type} sized bed.\")\n",
        "  print(f\"My {bed_type} sized bed is {bed_color}.\")\n",
        "\n"
      ],
      "metadata": {
        "id": "Y7VikHZbMUOP"
      },
      "execution_count": 17,
      "outputs": []
    },
    {
      "cell_type": "code",
      "source": [
        "describe_bed('King', 'Blue')"
      ],
      "metadata": {
        "colab": {
          "base_uri": "https://localhost:8080/"
        },
        "id": "6_JB8MueRV0b",
        "outputId": "95170470-6eab-4dfb-ef02-5540d898230b"
      },
      "execution_count": 18,
      "outputs": [
        {
          "output_type": "stream",
          "name": "stdout",
          "text": [
            "\n",
            "I have a King sized bed.\n",
            "My King sized bed is Blue.\n"
          ]
        }
      ]
    },
    {
      "cell_type": "markdown",
      "source": [
        "# Dice Roller\n",
        "- Function will simulate a dice roll\n"
      ],
      "metadata": {
        "id": "ZetuYvPunAZD"
      }
    },
    {
      "cell_type": "code",
      "source": [
        "import random\n",
        "\n",
        "def roll_dice():\n",
        "    return random.randint(1, 6)\n"
      ],
      "metadata": {
        "id": "EmrjjPmlqbqH"
      },
      "execution_count": 2,
      "outputs": []
    },
    {
      "cell_type": "code",
      "source": [
        "\n",
        "result = roll_dice()\n",
        "print(\"You rolled:\", result)\n"
      ],
      "metadata": {
        "colab": {
          "base_uri": "https://localhost:8080/"
        },
        "id": "bkjqDRwdra7C",
        "outputId": "08bf525a-7cf2-4492-8037-3a0bf01a1dbf"
      },
      "execution_count": 3,
      "outputs": [
        {
          "output_type": "stream",
          "name": "stdout",
          "text": [
            "You rolled: 5\n"
          ]
        }
      ]
    },
    {
      "cell_type": "markdown",
      "source": [
        "# Adding numbers\n",
        "- Function adds up the sum of a lot of differnt numbers\n",
        "- The numbers will be large vaules"
      ],
      "metadata": {
        "id": "t24zVkzYBlMQ"
      }
    },
    {
      "cell_type": "code",
      "source": [
        "def add_numbers(num1, num2, num3, num4):\n",
        "    sum = num1 + num2\n",
        "    print(\"Sum:\", sum)\n"
      ],
      "metadata": {
        "id": "ft8xW8vVBnhG"
      },
      "execution_count": 7,
      "outputs": []
    },
    {
      "cell_type": "code",
      "source": [
        "add_numbers(10000000, 4000000, 50000000, 88000000)"
      ],
      "metadata": {
        "colab": {
          "base_uri": "https://localhost:8080/"
        },
        "id": "78svF04dFrW1",
        "outputId": "b9e78d80-ae5c-4ca9-b979-1ef8d583eb00"
      },
      "execution_count": 8,
      "outputs": [
        {
          "output_type": "stream",
          "name": "stdout",
          "text": [
            "Sum: 14000000\n"
          ]
        }
      ]
    },
    {
      "cell_type": "markdown",
      "source": [
        "# Rock Paper Scissors\n",
        "- Function will make a list of choices \"Rock, Paper and Scissors\"\n",
        "- The computer will randomly choose one of these choices\n",
        "- The user will be asked to pick a choice between rock, paper and scissor\n",
        "- Depending on the users and computers choice, print \"Its a tie\", \"You win\", or \"Computer wins\"."
      ],
      "metadata": {
        "id": "5zlLl6PoFzYG"
      }
    },
    {
      "cell_type": "code",
      "source": [
        "import random\n",
        "\n",
        "def play_game(player_choice):\n",
        "    choices = ['rock', 'paper', 'scissors']\n",
        "    computer_choice = random.choice(choices)\n",
        "\n",
        "    print(\"Your choice:\", player_choice)\n",
        "    print(\"Computer's choice:\", computer_choice)\n",
        "\n",
        "    if player_choice == computer_choice:\n",
        "        return \"It's a tie!\"\n",
        "    elif (player_choice == 'rock' and computer_choice == 'scissors') or \\\n",
        "         (player_choice == 'paper' and computer_choice == 'rock') or \\\n",
        "         (player_choice == 'scissors' and computer_choice == 'paper'):\n",
        "        return \"You win!\"\n",
        "    else:\n",
        "        return \"Computer wins!\"\n",
        "\n",
        "\n"
      ],
      "metadata": {
        "id": "TI-oc6JYF1Ii"
      },
      "execution_count": 12,
      "outputs": []
    },
    {
      "cell_type": "code",
      "source": [
        "# Play Game\n",
        "player_choice = input(\"Enter your choice (rock, paper, or scissors): \").lower()\n",
        "result = play_game(player_choice)\n",
        "print(result)\n",
        "\n"
      ],
      "metadata": {
        "colab": {
          "base_uri": "https://localhost:8080/"
        },
        "id": "t8RsKOuOIEFE",
        "outputId": "49140d4d-09c1-4d0f-fad3-e86a5e5ca5b8"
      },
      "execution_count": 13,
      "outputs": [
        {
          "output_type": "stream",
          "name": "stdout",
          "text": [
            "Enter your choice (rock, paper, or scissors): rock\n",
            "Your choice: rock\n",
            "Computer's choice: scissors\n",
            "You win!\n"
          ]
        }
      ]
    },
    {
      "cell_type": "code",
      "source": [
        "# Example usage:\n",
        "player_choice = input(\"Enter your choice (rock, paper, or scissors): \").lower()\n",
        "result = play_game(player_choice)\n",
        "print(result)\n",
        "\n",
        "\n",
        "\n"
      ],
      "metadata": {
        "colab": {
          "base_uri": "https://localhost:8080/"
        },
        "id": "3b_EDdTKIP0l",
        "outputId": "cf756ae1-ae45-4495-d05e-887b8127ed13"
      },
      "execution_count": 16,
      "outputs": [
        {
          "output_type": "stream",
          "name": "stdout",
          "text": [
            "Enter your choice (rock, paper, or scissors): scissors\n",
            "Your choice: scissors\n",
            "Computer's choice: rock\n",
            "Computer wins!\n"
          ]
        }
      ]
    }
  ]
}