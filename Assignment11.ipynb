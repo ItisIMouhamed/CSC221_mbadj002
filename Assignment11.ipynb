{
  "nbformat": 4,
  "nbformat_minor": 0,
  "metadata": {
    "colab": {
      "provenance": [],
      "authorship_tag": "ABX9TyP+08eR6aIc27YkE/sd6Auo",
      "include_colab_link": true
    },
    "kernelspec": {
      "name": "python3",
      "display_name": "Python 3"
    },
    "language_info": {
      "name": "python"
    }
  },
  "cells": [
    {
      "cell_type": "markdown",
      "metadata": {
        "id": "view-in-github",
        "colab_type": "text"
      },
      "source": [
        "<a href=\"https://colab.research.google.com/github/ItisIMouhamed/CSC221_mbadj002/blob/main/Assignment11.ipynb\" target=\"_parent\"><img src=\"https://colab.research.google.com/assets/colab-badge.svg\" alt=\"Open In Colab\"/></a>"
      ]
    },
    {
      "cell_type": "markdown",
      "source": [
        "# Example Code from text: Dog"
      ],
      "metadata": {
        "id": "tlmGXCYfLlWB"
      }
    },
    {
      "cell_type": "code",
      "source": [
        "class Dog:\n",
        "  def __init__(self, name, age):\n",
        "    self.name = name\n",
        "    self.age = age\n",
        "\n",
        "  def sit(self):\n",
        "    print(f\"{self.name} is now sitting.\")\n",
        "\n",
        "  def roll_over(self):\n",
        "    print(f\"{self.name} rolled over!\")\n",
        "\n",
        ""
      ],
      "metadata": {
        "id": "5pK5ZKMkGkgb"
      },
      "execution_count": 9,
      "outputs": []
    },
    {
      "cell_type": "code",
      "source": [
        "my_dog = Dog(\"Willie\", 6)\n",
        "print(f\"My dogs name is {my_dog.name}.\")\n",
        "print(f\"My dog is {my_dog.age} years old.\")"
      ],
      "metadata": {
        "colab": {
          "base_uri": "https://localhost:8080/"
        },
        "id": "16QM1VO5HV38",
        "outputId": "eccd56d1-440a-4486-eb8b-b4c919651df9"
      },
      "execution_count": 11,
      "outputs": [
        {
          "output_type": "stream",
          "name": "stdout",
          "text": [
            "My dogs name is Willie.\n",
            "My dog is 6 years old.\n"
          ]
        }
      ]
    },
    {
      "cell_type": "code",
      "source": [
        "my_dog.sit()\n",
        "my_dog.roll_over()"
      ],
      "metadata": {
        "colab": {
          "base_uri": "https://localhost:8080/"
        },
        "id": "R-sTx_6iHp7I",
        "outputId": "6ed26a4f-aecf-49c3-ce00-60404ae92de9"
      },
      "execution_count": 12,
      "outputs": [
        {
          "output_type": "stream",
          "name": "stdout",
          "text": [
            "Willie is now sitting.\n",
            "Willie rolled over!\n"
          ]
        }
      ]
    },
    {
      "cell_type": "code",
      "source": [
        "your_dog = Dog('Lucy', 3)\n",
        "print(f\"My dog's name is {my_dog.name}.\")\n",
        "print(f\"My dog is {my_dog.age} years old.\")\n",
        "my_dog.sit()\n",
        "\n",
        "print(f\"\\nYour dog's name is {your_dog.name}.\")\n",
        "print(f\"Your dog is {your_dog.age} years old.\")\n",
        "your_dog.sit()"
      ],
      "metadata": {
        "colab": {
          "base_uri": "https://localhost:8080/"
        },
        "id": "TpexrqpcLqkQ",
        "outputId": "0218eb2b-d579-49f0-84b6-127b9f9a975e"
      },
      "execution_count": 14,
      "outputs": [
        {
          "output_type": "stream",
          "name": "stdout",
          "text": [
            "My dog's name is Willie.\n",
            "My dog is 6 years old.\n",
            "Willie is now sitting.\n",
            "\n",
            "Your dog's name is Lucy.\n",
            "Your dog is 3 years old.\n",
            "Lucy is now sitting.\n"
          ]
        }
      ]
    },
    {
      "cell_type": "markdown",
      "source": [
        "# TIY 9-1\n",
        "- Resturant"
      ],
      "metadata": {
        "id": "4OfMLvtKMMfk"
      }
    },
    {
      "cell_type": "code",
      "source": [
        "class Resturant:\n",
        "  def __init__(self, name, type):\n",
        "    self.name = name\n",
        "    self.type = type\n",
        "\n",
        "  def resturant_description(self):\n",
        "    print(f\"The resturant is named {self.name}.\")\n",
        "    print(f\"The resturant is a {self.type} place.\")\n",
        "\n",
        "  def open(self):\n",
        "    print(f\"The resturant, {self.name}, is now open!\")\n"
      ],
      "metadata": {
        "id": "xrslagvUMTkK"
      },
      "execution_count": 24,
      "outputs": []
    },
    {
      "cell_type": "code",
      "source": [
        "my_resturant = Resturant(\"Foods Paradise\", \"Fast food\")\n",
        "print(f\"The resturant is named {my_resturant.name}.\")\n",
        "print(f\"The resturant is a {my_resturant.type} place.\")"
      ],
      "metadata": {
        "colab": {
          "base_uri": "https://localhost:8080/"
        },
        "id": "aimjnJnWODHd",
        "outputId": "103f35ee-9452-4346-eef1-1d524921fec6"
      },
      "execution_count": 18,
      "outputs": [
        {
          "output_type": "stream",
          "name": "stdout",
          "text": [
            "The resturant is named Foods Paradise.\n",
            "The resturant is a Fast food place.\n"
          ]
        }
      ]
    },
    {
      "cell_type": "code",
      "source": [
        "my_resturant.open()"
      ],
      "metadata": {
        "colab": {
          "base_uri": "https://localhost:8080/"
        },
        "id": "j-kZmwogPzl5",
        "outputId": "e9ad9ffc-775a-43f6-9177-84380752e013"
      },
      "execution_count": 19,
      "outputs": [
        {
          "output_type": "stream",
          "name": "stdout",
          "text": [
            "The resturant, Foods Paradise, is now open!\n"
          ]
        }
      ]
    },
    {
      "cell_type": "markdown",
      "source": [
        "# TIY 9-2\n",
        "- Three resturants"
      ],
      "metadata": {
        "id": "dwmR3ZEtQ3LJ"
      }
    },
    {
      "cell_type": "code",
      "source": [
        "First_resturant = Resturant('Foods Paradise', \"fast food\")\n",
        "\n",
        "First_resturant.resturant_description()\n",
        "\n",
        "Secound_resturant = Resturant('Goofy Goobers', \"Fine Dining\")\n",
        "Secound_resturant.resturant_description()\n",
        "\n",
        "\n",
        "Third_resturant = Resturant(\"Sunny\", \"Food truck\")\n",
        "Third_resturant.resturant_description()\n",
        "\n"
      ],
      "metadata": {
        "colab": {
          "base_uri": "https://localhost:8080/"
        },
        "id": "5UC6nAGvQ9qt",
        "outputId": "d1de1566-18d2-4475-953c-d90f6c044b13"
      },
      "execution_count": 26,
      "outputs": [
        {
          "output_type": "stream",
          "name": "stdout",
          "text": [
            "The resturant is named Foods Paradise.\n",
            "The resturant is a fast food.\n",
            "The resturant is named Goofy Goobers.\n",
            "The resturant is a Fine Dining.\n",
            "The resturant is named Sunny.\n",
            "The resturant is a Food truck.\n"
          ]
        }
      ]
    },
    {
      "cell_type": "markdown",
      "source": [
        "# TIY 9-3\n",
        "- User"
      ],
      "metadata": {
        "id": "ueYf5UivWhwP"
      }
    },
    {
      "cell_type": "code",
      "source": [
        "class Users:\n",
        "  def __init__(self, first_name, last_name, email, age):\n",
        "    self.first_name = first_name\n",
        "    self.last_name = last_name\n",
        "    self.email = email\n",
        "    self.age = age\n",
        "\n",
        "  def describe_user(self):\n",
        "    print(f\"The users first name is {self.first_name}\")\n",
        "    print(f\"The users last name is {self.last_name}\")\n",
        "    print(f\"The users email is {self.email}\")\n",
        "    print(f\"The users age is {self.age}\")\n",
        "\n",
        "  def greet_user(self):\n",
        "    print(f\"Hello, {self.first_name} {self.last_name}!\")"
      ],
      "metadata": {
        "id": "D0659elvWmwK"
      },
      "execution_count": 45,
      "outputs": []
    },
    {
      "cell_type": "code",
      "source": [
        "user_info = Users(\"Mouhamed\", \"Badji\", \"mbadj002@plattsburgh.edu\", \"19\")\n",
        "user_info.describe_user()\n",
        "user_info.greet_user()"
      ],
      "metadata": {
        "colab": {
          "base_uri": "https://localhost:8080/"
        },
        "id": "pQ2REZG7YyI2",
        "outputId": "b4b47875-9537-44de-9ada-2dfe422841aa"
      },
      "execution_count": 32,
      "outputs": [
        {
          "output_type": "stream",
          "name": "stdout",
          "text": [
            "The users first name is Mouhamed\n",
            "The users last name is Badji\n",
            "The users email is mbadj002@plattsburgh.edu\n",
            "The users age is 19\n",
            "Hello, Mouhamed Badji!\n"
          ]
        }
      ]
    },
    {
      "cell_type": "code",
      "source": [
        "user_info = Users(\"Aged\", \"Milk\", \"stickycheesenugget@gmail.com\", \"99\")\n",
        "user_info.describe_user()\n",
        "user_info.greet_user()"
      ],
      "metadata": {
        "colab": {
          "base_uri": "https://localhost:8080/"
        },
        "id": "qsfJh2BzZW_f",
        "outputId": "eb8b9ce6-7344-4206-d9b9-199767fa31b8"
      },
      "execution_count": 33,
      "outputs": [
        {
          "output_type": "stream",
          "name": "stdout",
          "text": [
            "The users first name is Aged\n",
            "The users last name is Milk\n",
            "The users email is stickycheesenugget@gmail.com\n",
            "The users age is 99\n",
            "Hello, Aged Milk!\n"
          ]
        }
      ]
    },
    {
      "cell_type": "code",
      "source": [
        "user_info = Users(\"Lord\", \"Farqoud\", \"longchin53@farfaraway.com\", \"25\")\n",
        "user_info.describe_user()\n",
        "user_info.greet_user()"
      ],
      "metadata": {
        "colab": {
          "base_uri": "https://localhost:8080/"
        },
        "id": "EG2c7layZm9Y",
        "outputId": "d4de9677-6422-47e5-9627-7725574fec58"
      },
      "execution_count": 34,
      "outputs": [
        {
          "output_type": "stream",
          "name": "stdout",
          "text": [
            "The users first name is Lord\n",
            "The users last name is Farqoud\n",
            "The users email is longchin53@farfaraway.com\n",
            "The users age is 25\n",
            "Hello, Lord Farqoud!\n"
          ]
        }
      ]
    },
    {
      "cell_type": "markdown",
      "source": [
        "# Example code from text: Cars\n"
      ],
      "metadata": {
        "id": "iaY2Wcl2acus"
      }
    },
    {
      "cell_type": "code",
      "source": [
        "class Car:\n",
        "  def __init__(self, make, model, year):\n",
        "    self.make = make\n",
        "    self.model = model\n",
        "    self.year = year\n",
        "    self.odometer_reading = 0\n",
        "\n",
        "  def get_descriptive_name(self):\n",
        "    long_name = f\"{self.year} {self.make} {self.model}\"\n",
        "    return long_name.title()\n",
        "\n",
        "  def read_odometer(self):\n",
        "    print(f\"This car has {self.odometer_reading} miles on it.\")\n",
        "\n",
        "  def update_odometer(self, mileage):\n",
        "    self.odometer_reading = mileage\n",
        "    if mileage >= self.odometer_reading:\n",
        "      self.odometer_reading = mileage\n",
        "    else:\n",
        "      print(\"You can't roll back an odometer!\")\n",
        "\n",
        "  def increment_odometer(self, miles):\n",
        "    self.odometer_reading += miles\n",
        "\n"
      ],
      "metadata": {
        "id": "5xPKI8fHapTh"
      },
      "execution_count": 1,
      "outputs": []
    },
    {
      "cell_type": "code",
      "source": [
        "my_new_car = Car('audi', 'a4', 2024)\n",
        "print(my_new_car.get_descriptive_name())"
      ],
      "metadata": {
        "colab": {
          "base_uri": "https://localhost:8080/"
        },
        "id": "DNS_nfUkbZ4z",
        "outputId": "bc073fbe-5d68-4003-9932-88d302fd9bd9"
      },
      "execution_count": 3,
      "outputs": [
        {
          "output_type": "stream",
          "name": "stdout",
          "text": [
            "2024 Audi A4\n"
          ]
        }
      ]
    },
    {
      "cell_type": "code",
      "source": [
        "my_new_car = Car('audi', 'a4', 2024)\n",
        "print(my_new_car.get_descriptive_name())\n",
        "my_new_car.read_odometer()"
      ],
      "metadata": {
        "colab": {
          "base_uri": "https://localhost:8080/"
        },
        "id": "jSyejpWbcN3e",
        "outputId": "191046dc-42b4-4585-d7c2-4a31013fb7de"
      },
      "execution_count": 4,
      "outputs": [
        {
          "output_type": "stream",
          "name": "stdout",
          "text": [
            "2024 Audi A4\n",
            "This car has 0 miles on it.\n"
          ]
        }
      ]
    },
    {
      "cell_type": "code",
      "source": [
        "my_new_car = Car('audi', 'a4', 2024)\n",
        "print(my_new_car.get_descriptive_name())\n",
        "my_new_car.odometer_reading = 23\n",
        "my_new_car.read_odometer()"
      ],
      "metadata": {
        "colab": {
          "base_uri": "https://localhost:8080/"
        },
        "id": "CFHTEo3UdTZA",
        "outputId": "17a8ef3e-5330-40e3-9480-b4bb97f9005b"
      },
      "execution_count": 5,
      "outputs": [
        {
          "output_type": "stream",
          "name": "stdout",
          "text": [
            "2024 Audi A4\n",
            "This car has 23 miles on it.\n"
          ]
        }
      ]
    },
    {
      "cell_type": "code",
      "source": [
        "my_new_car.update_odometer(23)\n",
        "my_new_car.read_odometer()"
      ],
      "metadata": {
        "colab": {
          "base_uri": "https://localhost:8080/"
        },
        "id": "rssbZHNofOZn",
        "outputId": "d77ebc61-e19e-4f00-9cd1-40dff2b18de1"
      },
      "execution_count": 6,
      "outputs": [
        {
          "output_type": "stream",
          "name": "stdout",
          "text": [
            "This car has 23 miles on it.\n"
          ]
        }
      ]
    },
    {
      "cell_type": "code",
      "source": [
        "my_used_car = Car('subaru', 'outback', 2019)\n",
        "print(my_used_car.get_descriptive_name())\n",
        "my_used_car.update_odometer(23_500)\n",
        "my_used_car.read_odometer()\n",
        "my_used_car.increment_odometer(100)\n",
        "my_used_car.read_odometer()\n"
      ],
      "metadata": {
        "colab": {
          "base_uri": "https://localhost:8080/"
        },
        "id": "LSoGVk6Kg-lF",
        "outputId": "f945a29b-37bb-46f6-bb76-0741e97c6df9"
      },
      "execution_count": 7,
      "outputs": [
        {
          "output_type": "stream",
          "name": "stdout",
          "text": [
            "2019 Subaru Outback\n",
            "This car has 23500 miles on it.\n",
            "This car has 23600 miles on it.\n"
          ]
        }
      ]
    },
    {
      "cell_type": "markdown",
      "source": [
        "# Example code from text: Electric Cars\n",
        "- Inheritence"
      ],
      "metadata": {
        "id": "ECDskUYejLIu"
      }
    },
    {
      "cell_type": "code",
      "source": [
        "class ElectricCar(Car):\n",
        "  def __init__(self,make,model,year):\n",
        "    super().__init__(make, model, year)\n",
        "my_leaf = ElectricCar('nissan', 'leaf', 2024)\n",
        "print(my_leaf.get_descriptive_name())\n"
      ],
      "metadata": {
        "colab": {
          "base_uri": "https://localhost:8080/"
        },
        "id": "KvHX2stGjSck",
        "outputId": "f841d80a-82d9-4d94-b24d-90c94ca59c30"
      },
      "execution_count": 2,
      "outputs": [
        {
          "output_type": "stream",
          "name": "stdout",
          "text": [
            "2024 Nissan Leaf\n"
          ]
        }
      ]
    },
    {
      "cell_type": "code",
      "source": [
        "class ElectricCar(Car):\n",
        "  def __init__(self,make,model,year):\n",
        "    super().__init__(make, model, year)\n",
        "    self.battery_size = 40\n",
        "  def describe_battery(self):\n",
        "    print(f\"This car has a {self.battery_size}-kwh battery.\")\n",
        "my_leaf = ElectricCar('nissan', 'leaf', 2024)\n",
        "print(my_leaf.get_descriptive_name())\n",
        "my_leaf.describe_battery()\n"
      ],
      "metadata": {
        "colab": {
          "base_uri": "https://localhost:8080/"
        },
        "id": "vW0FRThVsy74",
        "outputId": "a62bcfe6-e753-45e4-c259-139c187fcfd9"
      },
      "execution_count": 12,
      "outputs": [
        {
          "output_type": "stream",
          "name": "stdout",
          "text": [
            "2024 Nissan Leaf\n",
            "This car has a 40-kwh battery.\n"
          ]
        }
      ]
    },
    {
      "cell_type": "code",
      "source": [
        "class Battery:\n",
        "  def __init__(self, battery_size=40):\n",
        "    self.battery_size = battery_size\n",
        "  def describe_battery(self):\n",
        "    print(f\"this car has a {self.battery_size}-kwh battery.\")\n",
        "  def get_range(self):\n",
        "    if self.battery_size == 40:\n",
        "      range = 150\n",
        "    elif self.battery_size == 65:\n",
        "      range = 225\n",
        "    print(f\"This car can go about {range} miles on a full charge.\")\n",
        "\n",
        "class ElectricCar(Car):\n",
        "  def __init__(self, make, model, year):\n",
        "    super().__init__(make, model, year)\n",
        "    self.battery = Battery()\n",
        "my_leaf = ElectricCar('nissan', 'leaf', 2024)\n",
        "print(my_leaf.get_descriptive_name())\n",
        "my_leaf.battery.describe_battery()\n",
        "my_leaf.battery.get_range()\n",
        "\n",
        "\n",
        "\n",
        "\n"
      ],
      "metadata": {
        "colab": {
          "base_uri": "https://localhost:8080/"
        },
        "id": "5NW3M2A2u9eY",
        "outputId": "12b24f8a-82a8-4ac2-9585-21dcabe3fe99"
      },
      "execution_count": 21,
      "outputs": [
        {
          "output_type": "stream",
          "name": "stdout",
          "text": [
            "2024 Nissan Leaf\n",
            "this car has a 40-kwh battery.\n",
            "This car can go about 150 miles on a full charge.\n"
          ]
        }
      ]
    },
    {
      "cell_type": "markdown",
      "source": [
        "# TIY 9-6\n",
        "- Icecream Stand"
      ],
      "metadata": {
        "id": "7jcyZ800OUss"
      }
    },
    {
      "cell_type": "code",
      "source": [
        "class IceCreamStand(Resturant):\n",
        "  def __init__(self, name, type, flavors=[]):\n",
        "    self.flavors = flavors\n",
        "\n",
        "  def display_falvors(self):\n",
        "    print(f\"All Ice Cream Flavors: \")\n",
        "    for flavor in self.flavors:\n",
        "      print(flavor)\n",
        "\n",
        "\n",
        "\n",
        "\n"
      ],
      "metadata": {
        "id": "7cJUcUrmObPs"
      },
      "execution_count": 27,
      "outputs": []
    },
    {
      "cell_type": "code",
      "source": [
        "my_IceCreamStand = IceCreamStand(\"Iceiest Cream\", \"Ice Cream\", [\"Vanilla\", \"Chocolate\", \"Cookie & Cream\", \"Strawberry\"])\n",
        "\n",
        "my_IceCreamStand.display_falvors()"
      ],
      "metadata": {
        "colab": {
          "base_uri": "https://localhost:8080/"
        },
        "id": "ySzghE_AXoyA",
        "outputId": "2d9e1e76-dbe0-4cd7-8d21-3964dc78d9c3"
      },
      "execution_count": 31,
      "outputs": [
        {
          "output_type": "stream",
          "name": "stdout",
          "text": [
            "All Ice Cream Flavors: \n",
            "Vanilla\n",
            "Chocolate\n",
            "Cookie & Cream\n",
            "Strawberry\n"
          ]
        }
      ]
    },
    {
      "cell_type": "markdown",
      "source": [
        "# TIY 9-7\n",
        "- Admin"
      ],
      "metadata": {
        "id": "Z2aRa83KZXko"
      }
    },
    {
      "cell_type": "code",
      "source": [
        "class Admin(Users):\n",
        "    def __init__(self, first_name, last_name, email, age, privileges=[]):\n",
        "        super().__init__(first_name, last_name, email, age)\n",
        "        self.privileges = privileges\n",
        "\n",
        "    def show_privileges(self):\n",
        "        print(\"Admin privileges:\")\n",
        "        for privilege in self.privileges:\n",
        "            print(privilege)\n"
      ],
      "metadata": {
        "id": "eXBvO4Apfcyt"
      },
      "execution_count": 46,
      "outputs": []
    },
    {
      "cell_type": "code",
      "source": [
        "my_admin = Admin(\"Mc\", \"Lovin\", \"ImMcLovin@gmail.com\", 25, [\"can add post\", \"can delete post\", \"can ban user\"])\n",
        "my_admin.show_privileges()\n"
      ],
      "metadata": {
        "colab": {
          "base_uri": "https://localhost:8080/"
        },
        "id": "CKesRUPXeaNG",
        "outputId": "fa9b1b3a-d47d-4531-f12a-2ff64906c70a"
      },
      "execution_count": 48,
      "outputs": [
        {
          "output_type": "stream",
          "name": "stdout",
          "text": [
            "Admin privileges:\n",
            "can add post\n",
            "can delete post\n",
            "can ban user\n"
          ]
        }
      ]
    }
  ]
}